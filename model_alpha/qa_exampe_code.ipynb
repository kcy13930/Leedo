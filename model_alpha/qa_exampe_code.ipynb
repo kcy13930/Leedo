{
 "cells": [
  {
   "cell_type": "code",
   "execution_count": null,
   "metadata": {
    "id": "U4oiDA1Qqpr6"
   },
   "outputs": [],
   "source": [
    "# 순서도\n",
    "# 0. 문장 입력받기\n",
    "#   - 챗봇 응답이 맞는지 확인하기.\n",
    "#   - 느낌표로 intent구분\n",
    "\n",
    "# 1. intent분석\n",
    "#   - input에서 느낌표 제거\n",
    "#   - 찬의랑 합칠 때, intent별로 mode전환 할 수있는 코드 필요 \n",
    "\n",
    "# 2. 유사도 분류 + 출력\n",
    "#   - corpus 필요\n",
    "#   - query문 필요(입력문장임)\n",
    "#   - cosine similarity계산\n",
    "#   - top5유사도 출력\n",
    "\n",
    "# 4. 제목 클릭시 답변 출력해주기\n",
    "#   - \n",
    "#   - 딕셔너리형으로 저장되어 있는 질문 답변 출력하기(반환이 list순서대로 나와서 일단을 딕셔너리 필요없음)\n",
    "\n",
    "\n",
    "#논의가 필요한 사항, 느낌표로 intent구분 후 동작 상의해야함."
   ]
  },
  {
   "cell_type": "code",
   "execution_count": 1,
   "metadata": {
    "id": "WUQNemRFjQ15"
   },
   "outputs": [],
   "source": [
    "import numpy as np\n",
    "import pandas as pd"
   ]
  },
  {
   "cell_type": "code",
   "execution_count": null,
   "metadata": {
    "id": "uE5i8TnO5itY"
   },
   "outputs": [],
   "source": [
    "# from google.colab import drive\n",
    "# drive.mount('/content/drive')"
   ]
  },
  {
   "cell_type": "code",
   "execution_count": null,
   "metadata": {
    "id": "Nuo1mC7gMy90"
   },
   "outputs": [],
   "source": []
  },
  {
   "cell_type": "code",
   "execution_count": 2,
   "metadata": {
    "id": "jr1GhHUWzLUZ"
   },
   "outputs": [],
   "source": [
    "def query_confirm(query_input): #챗봇을 호출하는 문장이 맞는지 확인(느낌표 check), 챗봇과 연동시 필요 없어질 수도 있음(파실할 떄 check가 가능하다면)\n",
    "    global status_value\n",
    "    if(query_input[0:1] == \"!\" or query_input[0:2] == \"!!\"):\n",
    "        status_value= True\n",
    "        return True\n",
    "    else:\n",
    "        status_value= False\n",
    "        return False\n"
   ]
  },
  {
   "cell_type": "code",
   "execution_count": 4,
   "metadata": {
    "id": "paqckjv9ZEYc"
   },
   "outputs": [],
   "source": [
    "#작동 상태관리 각 단계에서 이상이 없으면 True로 관리됨.\n",
    "status_value = False"
   ]
  },
  {
   "cell_type": "code",
   "execution_count": 5,
   "metadata": {
    "id": "G0OjN6LNIv_m"
   },
   "outputs": [],
   "source": [
    "#코퍼스 불러오기"
   ]
  },
  {
   "cell_type": "code",
   "execution_count": 6,
   "metadata": {
    "id": "V0n9aMwVOSLj"
   },
   "outputs": [],
   "source": [
    "data = pd.read_csv(\"test_dummy_first.csv\")"
   ]
  },
  {
   "cell_type": "code",
   "execution_count": 7,
   "metadata": {
    "id": "RcaR4WmzjWUY"
   },
   "outputs": [
    {
     "data": {
      "text/html": [
       "<div>\n",
       "<style scoped>\n",
       "    .dataframe tbody tr th:only-of-type {\n",
       "        vertical-align: middle;\n",
       "    }\n",
       "\n",
       "    .dataframe tbody tr th {\n",
       "        vertical-align: top;\n",
       "    }\n",
       "\n",
       "    .dataframe thead th {\n",
       "        text-align: right;\n",
       "    }\n",
       "</style>\n",
       "<table border=\"1\" class=\"dataframe\">\n",
       "  <thead>\n",
       "    <tr style=\"text-align: right;\">\n",
       "      <th></th>\n",
       "      <th>id</th>\n",
       "      <th>날짜</th>\n",
       "      <th>질문내용</th>\n",
       "      <th>답변내용</th>\n",
       "      <th>질문자</th>\n",
       "      <th>답변자</th>\n",
       "      <th>채널명</th>\n",
       "    </tr>\n",
       "  </thead>\n",
       "  <tbody>\n",
       "    <tr>\n",
       "      <th>0</th>\n",
       "      <td>1_0000001</td>\n",
       "      <td>2020.11.01</td>\n",
       "      <td>배고프다</td>\n",
       "      <td>밥먹어</td>\n",
       "      <td>신재욱</td>\n",
       "      <td>김창영</td>\n",
       "      <td>질문답변</td>\n",
       "    </tr>\n",
       "    <tr>\n",
       "      <th>1</th>\n",
       "      <td>1_0000002</td>\n",
       "      <td>2020.12.03</td>\n",
       "      <td>자바스크립트 공부방법</td>\n",
       "      <td>생활코딩, 니꼴라스샘</td>\n",
       "      <td>탁민경</td>\n",
       "      <td>홍찬의</td>\n",
       "      <td>질문답변</td>\n",
       "    </tr>\n",
       "    <tr>\n",
       "      <th>2</th>\n",
       "      <td>1_0000003</td>\n",
       "      <td>2020.08.03</td>\n",
       "      <td>놀러가고 싶다</td>\n",
       "      <td>애버랜드가자</td>\n",
       "      <td>김창영</td>\n",
       "      <td>홍찬의</td>\n",
       "      <td>it지식공유</td>\n",
       "    </tr>\n",
       "    <tr>\n",
       "      <th>3</th>\n",
       "      <td>1_0000004</td>\n",
       "      <td>2019.04.15</td>\n",
       "      <td>넷플릭스 뭐가 재밌어</td>\n",
       "      <td>킹덤을 봐봐</td>\n",
       "      <td>홍찬의</td>\n",
       "      <td>신재욱</td>\n",
       "      <td>질문답변</td>\n",
       "    </tr>\n",
       "    <tr>\n",
       "      <th>4</th>\n",
       "      <td>2_0000001</td>\n",
       "      <td>2018.05.03</td>\n",
       "      <td>안드로이드 공부 방법 추천</td>\n",
       "      <td>생활코딩</td>\n",
       "      <td>신재욱</td>\n",
       "      <td>탁민경</td>\n",
       "      <td>질문답변</td>\n",
       "    </tr>\n",
       "    <tr>\n",
       "      <th>5</th>\n",
       "      <td>2_0000002</td>\n",
       "      <td>2017.03.13</td>\n",
       "      <td>아마존 인턴쉽</td>\n",
       "      <td>www.naver.com</td>\n",
       "      <td>서인하</td>\n",
       "      <td>서인하</td>\n",
       "      <td>it지식공유</td>\n",
       "    </tr>\n",
       "  </tbody>\n",
       "</table>\n",
       "</div>"
      ],
      "text/plain": [
       "          id          날짜            질문내용           답변내용  질문자  답변자     채널명\n",
       "0  1_0000001  2020.11.01            배고프다            밥먹어  신재욱  김창영    질문답변\n",
       "1  1_0000002  2020.12.03     자바스크립트 공부방법    생활코딩, 니꼴라스샘  탁민경  홍찬의    질문답변\n",
       "2  1_0000003  2020.08.03         놀러가고 싶다         애버랜드가자  김창영  홍찬의  it지식공유\n",
       "3  1_0000004  2019.04.15     넷플릭스 뭐가 재밌어         킹덤을 봐봐  홍찬의  신재욱    질문답변\n",
       "4  2_0000001  2018.05.03  안드로이드 공부 방법 추천           생활코딩  신재욱  탁민경    질문답변\n",
       "5  2_0000002  2017.03.13         아마존 인턴쉽  www.naver.com  서인하  서인하  it지식공유"
      ]
     },
     "execution_count": 7,
     "metadata": {},
     "output_type": "execute_result"
    }
   ],
   "source": [
    "data"
   ]
  },
  {
   "cell_type": "code",
   "execution_count": 8,
   "metadata": {
    "id": "B4kDFZEtIFmy"
   },
   "outputs": [],
   "source": [
    "corpus = data['질문내용'].values.tolist()"
   ]
  },
  {
   "cell_type": "code",
   "execution_count": 9,
   "metadata": {
    "id": "Z-z_2zPcPHSo"
   },
   "outputs": [],
   "source": [
    "answer_corpus = data['답변내용'].values.tolist()"
   ]
  },
  {
   "cell_type": "code",
   "execution_count": 10,
   "metadata": {
    "id": "UlfQsyMfFUBL"
   },
   "outputs": [],
   "source": [
    "# corpus_question_id_dict = dict(zip(data['질문내용'].values.tolist(),data['id'].values.tolist()))\n",
    "# corpus_id_answer_dict = dict(zip(data['id'].values.tolist(), data['답변내용'].values.tolist()))"
   ]
  },
  {
   "cell_type": "code",
   "execution_count": 11,
   "metadata": {
    "id": "1F0FwaOMIb-_"
   },
   "outputs": [],
   "source": [
    "# corpus_question_id_dict"
   ]
  },
  {
   "cell_type": "code",
   "execution_count": 12,
   "metadata": {
    "id": "gnNpzWlIIe7E"
   },
   "outputs": [],
   "source": [
    "# corpus_id_answer_dict"
   ]
  },
  {
   "cell_type": "code",
   "execution_count": 34,
   "metadata": {
    "id": "MtnsPjxuvLmK"
   },
   "outputs": [
    {
     "name": "stdout",
     "output_type": "stream",
     "text": [
      "느낌표로 시작하는 문장을 입력해주세요!Android\n"
     ]
    }
   ],
   "source": [
    "#0. 문장입력받기\n",
    "query = input(\"느낌표로 시작하는 문장을 입력해주세요\")"
   ]
  },
  {
   "cell_type": "code",
   "execution_count": 35,
   "metadata": {
    "id": "MOgvrRswcABT"
   },
   "outputs": [],
   "source": [
    "def delete_exclamation_mark(input):\n",
    "    if(input[0:1] == \"!\"):\n",
    "        return input[1:]\n",
    "    elif(input[0:2] == \"!!\"):\n",
    "        return input[2:]"
   ]
  },
  {
   "cell_type": "code",
   "execution_count": 36,
   "metadata": {
    "id": "dHmCUFZ-y2H8"
   },
   "outputs": [],
   "source": [
    "#1. intent 분석\n",
    "query = delete_exclamation_mark(query)"
   ]
  },
  {
   "cell_type": "code",
   "execution_count": 37,
   "metadata": {
    "id": "-DCU-SIYXZoz"
   },
   "outputs": [
    {
     "name": "stdout",
     "output_type": "stream",
     "text": [
      "Android\n"
     ]
    }
   ],
   "source": [
    "print(query)"
   ]
  },
  {
   "cell_type": "code",
   "execution_count": 38,
   "metadata": {
    "colab": {
     "background_save": true,
     "base_uri": "https://localhost:8080/"
    },
    "id": "GZ_JgaeZXzcy",
    "outputId": "364072a8-48eb-4910-c4fd-03ea57af19ed"
   },
   "outputs": [
    {
     "name": "stdout",
     "output_type": "stream",
     "text": [
      "\n",
      "\n",
      "======================\n",
      "\n",
      "\n",
      "Query: Android\n",
      "\n",
      "유사한 질문 리스트 Top 5\n",
      "1번 아마존 인턴쉽 (Score: 0.3716)\n",
      "2번 배고프다 (Score: 0.2471)\n",
      "3번 넷플릭스 뭐가 재밌어 (Score: 0.2032)\n",
      "4번 안드로이드 공부 방법 추천 (Score: 0.1848)\n",
      "5번 자바스크립트 공부방법 (Score: 0.1729)\n"
     ]
    }
   ],
   "source": [
    "#2. 유사도 분류 + 출력\n",
    "from sentence_transformers import SentenceTransformer, util\n",
    "import numpy as np\n",
    "\n",
    "embedder = SentenceTransformer('distiluse-base-multilingual-cased')\n",
    "\n",
    "top_k = 5\n",
    "corpus_embeddings = embedder.encode(corpus, convert_to_tensor=True)\n",
    "query_embedding = embedder.encode(query, convert_to_tensor=True)\n",
    "cos_scores = util.pytorch_cos_sim(query_embedding, corpus_embeddings)[0]\n",
    "cos_scores = cos_scores.cpu()\n",
    "\n",
    "\n",
    "#We use np.argpartition, to only partially sort the top_k results\n",
    "top_results = np.argpartition(-cos_scores, range(top_k))[0:top_k]\n",
    "\n",
    "print(\"\\n\\n======================\\n\\n\")\n",
    "print(\"Query:\", query)\n",
    "print(\"\\n유사한 질문 리스트 Top 5\")\n",
    "\n",
    "for i, idx in enumerate(top_results[0:top_k]):\n",
    "    print(str(i+1)+\"번 \"+corpus[idx].strip(), \"(Score: %.4f)\" % (cos_scores[idx]))\n",
    "    \n",
    "\n",
    "\n"
   ]
  },
  {
   "cell_type": "code",
   "execution_count": 39,
   "metadata": {},
   "outputs": [
    {
     "name": "stdout",
     "output_type": "stream",
     "text": [
      "\n",
      "\n",
      "======================\n",
      "\n",
      "\n",
      "Query: Android\n",
      "\n",
      "유사한 질문 리스트 Top 5\n",
      "1번 아마존 인턴쉽 (Score: 0.3716)\n",
      "2번 배고프다 (Score: 0.2471)\n",
      "3번 넷플릭스 뭐가 재밌어 (Score: 0.2032)\n",
      "4번 안드로이드 공부 방법 추천 (Score: 0.1848)\n",
      "5번 자바스크립트 공부방법 (Score: 0.1729)\n"
     ]
    }
   ],
   "source": [
    "#2. 유사도 분류 + 출력\n",
    "from sentence_transformers import SentenceTransformer, util\n",
    "import numpy as np\n",
    "\n",
    "embedder = SentenceTransformer('distiluse-base-multilingual-cased-v2')\n",
    "\n",
    "top_k = 5\n",
    "corpus_embeddings = embedder.encode(corpus, convert_to_tensor=True)\n",
    "query_embedding = embedder.encode(query, convert_to_tensor=True)\n",
    "cos_scores = util.pytorch_cos_sim(query_embedding, corpus_embeddings)[0]\n",
    "cos_scores = cos_scores.cpu()\n",
    "\n",
    "\n",
    "#We use np.argpartition, to only partially sort the top_k results\n",
    "top_results = np.argpartition(-cos_scores, range(top_k))[0:top_k]\n",
    "\n",
    "print(\"\\n\\n======================\\n\\n\")\n",
    "print(\"Query:\", query)\n",
    "print(\"\\n유사한 질문 리스트 Top 5\")\n",
    "\n",
    "for i, idx in enumerate(top_results[0:top_k]):\n",
    "    print(str(i+1)+\"번 \"+corpus[idx].strip(), \"(Score: %.4f)\" % (cos_scores[idx]))"
   ]
  },
  {
   "cell_type": "code",
   "execution_count": null,
   "metadata": {},
   "outputs": [],
   "source": []
  },
  {
   "cell_type": "code",
   "execution_count": 26,
   "metadata": {
    "id": "dDvXEwxOIghL"
   },
   "outputs": [
    {
     "name": "stdout",
     "output_type": "stream",
     "text": [
      "찾고 싶으신 질문은 어떤것 입니까?(1~5번 입력)1\n",
      "킹덤을 봐봐\n"
     ]
    }
   ],
   "source": [
    "find_answer = input(\"찾고 싶으신 질문은 어떤것 입니까?(1~5번 입력)\")\n",
    "print(answer_corpus[top_results[int(find_answer)-1]])"
   ]
  },
  {
   "cell_type": "code",
   "execution_count": null,
   "metadata": {},
   "outputs": [],
   "source": []
  }
 ],
 "metadata": {
  "colab": {
   "collapsed_sections": [],
   "name": "qa_exampe_code.ipynb",
   "provenance": []
  },
  "kernelspec": {
   "display_name": "Python 3",
   "language": "python",
   "name": "python3"
  },
  "language_info": {
   "codemirror_mode": {
    "name": "ipython",
    "version": 3
   },
   "file_extension": ".py",
   "mimetype": "text/x-python",
   "name": "python",
   "nbconvert_exporter": "python",
   "pygments_lexer": "ipython3",
   "version": "3.7.6"
  }
 },
 "nbformat": 4,
 "nbformat_minor": 1
}
