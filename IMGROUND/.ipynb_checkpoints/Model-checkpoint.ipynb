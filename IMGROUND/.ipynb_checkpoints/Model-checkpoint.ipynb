{
 "cells": [
  {
   "cell_type": "code",
   "execution_count": 1,
   "metadata": {},
   "outputs": [],
   "source": [
    "import pandas as pd\n",
    "import openpyxl"
   ]
  },
  {
   "cell_type": "code",
   "execution_count": 3,
   "metadata": {},
   "outputs": [],
   "source": [
    "Dataset=pd.read_json('Leedo_Dataset.json')"
   ]
  },
  {
   "cell_type": "code",
   "execution_count": 4,
   "metadata": {},
   "outputs": [
    {
     "data": {
      "text/html": [
       "<div>\n",
       "<style scoped>\n",
       "    .dataframe tbody tr th:only-of-type {\n",
       "        vertical-align: middle;\n",
       "    }\n",
       "\n",
       "    .dataframe tbody tr th {\n",
       "        vertical-align: top;\n",
       "    }\n",
       "\n",
       "    .dataframe thead th {\n",
       "        text-align: right;\n",
       "    }\n",
       "</style>\n",
       "<table border=\"1\" class=\"dataframe\">\n",
       "  <thead>\n",
       "    <tr style=\"text-align: right;\">\n",
       "      <th></th>\n",
       "      <th>index</th>\n",
       "      <th>name</th>\n",
       "      <th>content</th>\n",
       "      <th>name_index</th>\n",
       "      <th>theme</th>\n",
       "      <th>theme_index</th>\n",
       "    </tr>\n",
       "  </thead>\n",
       "  <tbody>\n",
       "    <tr>\n",
       "      <th>0</th>\n",
       "      <td>1</td>\n",
       "      <td>김유리</td>\n",
       "      <td>제 주전공은 인간의 마음과 행동에 대해 연구하는 심리학입니다.</td>\n",
       "      <td>1</td>\n",
       "      <td>심리학</td>\n",
       "      <td>1</td>\n",
       "    </tr>\n",
       "    <tr>\n",
       "      <th>1</th>\n",
       "      <td>2</td>\n",
       "      <td>김유리</td>\n",
       "      <td>사람 자체에 대한 관심도 많고, 정신적으로 어려움을 겪는 사람들을 돕고 싶어 심리학...</td>\n",
       "      <td>1</td>\n",
       "      <td>심리학</td>\n",
       "      <td>1</td>\n",
       "    </tr>\n",
       "    <tr>\n",
       "      <th>2</th>\n",
       "      <td>3</td>\n",
       "      <td>김유리</td>\n",
       "      <td>다양한 상황에서 사람들이 어떤 것을 느끼고 생각하며, 그에 따라 왜 행동하는지를 공...</td>\n",
       "      <td>1</td>\n",
       "      <td>심리학</td>\n",
       "      <td>1</td>\n",
       "    </tr>\n",
       "    <tr>\n",
       "      <th>3</th>\n",
       "      <td>4</td>\n",
       "      <td>김유리</td>\n",
       "      <td>지금까지도 심리학 관련 논문과 책 읽기를 즐겨하고 있어요!</td>\n",
       "      <td>1</td>\n",
       "      <td>심리학</td>\n",
       "      <td>1</td>\n",
       "    </tr>\n",
       "    <tr>\n",
       "      <th>4</th>\n",
       "      <td>5</td>\n",
       "      <td>김유리</td>\n",
       "      <td>인공지능에 대해 배우고 싶다는 마음을 품은 채 대학교에 입학했어요</td>\n",
       "      <td>1</td>\n",
       "      <td>인공지능</td>\n",
       "      <td>2</td>\n",
       "    </tr>\n",
       "    <tr>\n",
       "      <th>...</th>\n",
       "      <td>...</td>\n",
       "      <td>...</td>\n",
       "      <td>...</td>\n",
       "      <td>...</td>\n",
       "      <td>...</td>\n",
       "      <td>...</td>\n",
       "    </tr>\n",
       "    <tr>\n",
       "      <th>259</th>\n",
       "      <td>260</td>\n",
       "      <td>김상엽</td>\n",
       "      <td>개발서적 리뷰 웹 서로 프로젝트를 진행합니다</td>\n",
       "      <td>34</td>\n",
       "      <td>웹</td>\n",
       "      <td>3</td>\n",
       "    </tr>\n",
       "    <tr>\n",
       "      <th>260</th>\n",
       "      <td>261</td>\n",
       "      <td>김상엽</td>\n",
       "      <td>자바와 웹쪽을 좀더 공부할 것 같습니다</td>\n",
       "      <td>34</td>\n",
       "      <td>웹</td>\n",
       "      <td>3</td>\n",
       "    </tr>\n",
       "    <tr>\n",
       "      <th>261</th>\n",
       "      <td>262</td>\n",
       "      <td>김상엽</td>\n",
       "      <td>농구도 좋아합니다.</td>\n",
       "      <td>34</td>\n",
       "      <td>농구</td>\n",
       "      <td>19</td>\n",
       "    </tr>\n",
       "    <tr>\n",
       "      <th>262</th>\n",
       "      <td>263</td>\n",
       "      <td>김상엽</td>\n",
       "      <td>유튜브 보기</td>\n",
       "      <td>34</td>\n",
       "      <td>유튜브</td>\n",
       "      <td>40</td>\n",
       "    </tr>\n",
       "    <tr>\n",
       "      <th>263</th>\n",
       "      <td>264</td>\n",
       "      <td>김상엽</td>\n",
       "      <td>게임하기</td>\n",
       "      <td>34</td>\n",
       "      <td>게임</td>\n",
       "      <td>11</td>\n",
       "    </tr>\n",
       "  </tbody>\n",
       "</table>\n",
       "<p>264 rows × 6 columns</p>\n",
       "</div>"
      ],
      "text/plain": [
       "     index name                                            content  \\\n",
       "0        1  김유리                 제 주전공은 인간의 마음과 행동에 대해 연구하는 심리학입니다.   \n",
       "1        2  김유리  사람 자체에 대한 관심도 많고, 정신적으로 어려움을 겪는 사람들을 돕고 싶어 심리학...   \n",
       "2        3  김유리  다양한 상황에서 사람들이 어떤 것을 느끼고 생각하며, 그에 따라 왜 행동하는지를 공...   \n",
       "3        4  김유리                   지금까지도 심리학 관련 논문과 책 읽기를 즐겨하고 있어요!   \n",
       "4        5  김유리               인공지능에 대해 배우고 싶다는 마음을 품은 채 대학교에 입학했어요   \n",
       "..     ...  ...                                                ...   \n",
       "259    260  김상엽                           개발서적 리뷰 웹 서로 프로젝트를 진행합니다   \n",
       "260    261  김상엽                              자바와 웹쪽을 좀더 공부할 것 같습니다   \n",
       "261    262  김상엽                                         농구도 좋아합니다.   \n",
       "262    263  김상엽                                             유튜브 보기   \n",
       "263    264  김상엽                                               게임하기   \n",
       "\n",
       "     name_index theme  theme_index  \n",
       "0             1   심리학            1  \n",
       "1             1   심리학            1  \n",
       "2             1   심리학            1  \n",
       "3             1   심리학            1  \n",
       "4             1  인공지능            2  \n",
       "..          ...   ...          ...  \n",
       "259          34     웹            3  \n",
       "260          34     웹            3  \n",
       "261          34    농구           19  \n",
       "262          34   유튜브           40  \n",
       "263          34    게임           11  \n",
       "\n",
       "[264 rows x 6 columns]"
      ]
     },
     "execution_count": 4,
     "metadata": {},
     "output_type": "execute_result"
    }
   ],
   "source": [
    "Dataset"
   ]
  },
  {
   "cell_type": "code",
   "execution_count": 10,
   "metadata": {},
   "outputs": [],
   "source": [
    "corpus = Dataset['content'].values.tolist()"
   ]
  },
  {
   "cell_type": "code",
   "execution_count": 12,
   "metadata": {},
   "outputs": [],
   "source": [
    "corpus = [word.replace('\\xa0',' ') for word in corpus]"
   ]
  },
  {
   "cell_type": "code",
   "execution_count": 15,
   "metadata": {},
   "outputs": [],
   "source": [
    "name = Dataset['name'].values.tolist()"
   ]
  },
  {
   "cell_type": "code",
   "execution_count": 17,
   "metadata": {},
   "outputs": [],
   "source": [
    "name = [word.replace('\\xa0',' ') for word in name]"
   ]
  },
  {
   "cell_type": "code",
   "execution_count": 5,
   "metadata": {},
   "outputs": [
    {
     "name": "stderr",
     "output_type": "stream",
     "text": [
      "C:\\Users\\PC\\miniconda3\\lib\\site-packages\\tensorflow\\python\\framework\\dtypes.py:516: FutureWarning: Passing (type, 1) or '1type' as a synonym of type is deprecated; in a future version of numpy, it will be understood as (type, (1,)) / '(1,)type'.\n",
      "  _np_qint8 = np.dtype([(\"qint8\", np.int8, 1)])\n",
      "C:\\Users\\PC\\miniconda3\\lib\\site-packages\\tensorflow\\python\\framework\\dtypes.py:517: FutureWarning: Passing (type, 1) or '1type' as a synonym of type is deprecated; in a future version of numpy, it will be understood as (type, (1,)) / '(1,)type'.\n",
      "  _np_quint8 = np.dtype([(\"quint8\", np.uint8, 1)])\n",
      "C:\\Users\\PC\\miniconda3\\lib\\site-packages\\tensorflow\\python\\framework\\dtypes.py:518: FutureWarning: Passing (type, 1) or '1type' as a synonym of type is deprecated; in a future version of numpy, it will be understood as (type, (1,)) / '(1,)type'.\n",
      "  _np_qint16 = np.dtype([(\"qint16\", np.int16, 1)])\n",
      "C:\\Users\\PC\\miniconda3\\lib\\site-packages\\tensorflow\\python\\framework\\dtypes.py:519: FutureWarning: Passing (type, 1) or '1type' as a synonym of type is deprecated; in a future version of numpy, it will be understood as (type, (1,)) / '(1,)type'.\n",
      "  _np_quint16 = np.dtype([(\"quint16\", np.uint16, 1)])\n",
      "C:\\Users\\PC\\miniconda3\\lib\\site-packages\\tensorflow\\python\\framework\\dtypes.py:520: FutureWarning: Passing (type, 1) or '1type' as a synonym of type is deprecated; in a future version of numpy, it will be understood as (type, (1,)) / '(1,)type'.\n",
      "  _np_qint32 = np.dtype([(\"qint32\", np.int32, 1)])\n",
      "C:\\Users\\PC\\miniconda3\\lib\\site-packages\\tensorflow\\python\\framework\\dtypes.py:525: FutureWarning: Passing (type, 1) or '1type' as a synonym of type is deprecated; in a future version of numpy, it will be understood as (type, (1,)) / '(1,)type'.\n",
      "  np_resource = np.dtype([(\"resource\", np.ubyte, 1)])\n",
      "C:\\Users\\PC\\miniconda3\\lib\\site-packages\\tensorboard\\compat\\tensorflow_stub\\dtypes.py:541: FutureWarning: Passing (type, 1) or '1type' as a synonym of type is deprecated; in a future version of numpy, it will be understood as (type, (1,)) / '(1,)type'.\n",
      "  _np_qint8 = np.dtype([(\"qint8\", np.int8, 1)])\n",
      "C:\\Users\\PC\\miniconda3\\lib\\site-packages\\tensorboard\\compat\\tensorflow_stub\\dtypes.py:542: FutureWarning: Passing (type, 1) or '1type' as a synonym of type is deprecated; in a future version of numpy, it will be understood as (type, (1,)) / '(1,)type'.\n",
      "  _np_quint8 = np.dtype([(\"quint8\", np.uint8, 1)])\n",
      "C:\\Users\\PC\\miniconda3\\lib\\site-packages\\tensorboard\\compat\\tensorflow_stub\\dtypes.py:543: FutureWarning: Passing (type, 1) or '1type' as a synonym of type is deprecated; in a future version of numpy, it will be understood as (type, (1,)) / '(1,)type'.\n",
      "  _np_qint16 = np.dtype([(\"qint16\", np.int16, 1)])\n",
      "C:\\Users\\PC\\miniconda3\\lib\\site-packages\\tensorboard\\compat\\tensorflow_stub\\dtypes.py:544: FutureWarning: Passing (type, 1) or '1type' as a synonym of type is deprecated; in a future version of numpy, it will be understood as (type, (1,)) / '(1,)type'.\n",
      "  _np_quint16 = np.dtype([(\"quint16\", np.uint16, 1)])\n",
      "C:\\Users\\PC\\miniconda3\\lib\\site-packages\\tensorboard\\compat\\tensorflow_stub\\dtypes.py:545: FutureWarning: Passing (type, 1) or '1type' as a synonym of type is deprecated; in a future version of numpy, it will be understood as (type, (1,)) / '(1,)type'.\n",
      "  _np_qint32 = np.dtype([(\"qint32\", np.int32, 1)])\n",
      "C:\\Users\\PC\\miniconda3\\lib\\site-packages\\tensorboard\\compat\\tensorflow_stub\\dtypes.py:550: FutureWarning: Passing (type, 1) or '1type' as a synonym of type is deprecated; in a future version of numpy, it will be understood as (type, (1,)) / '(1,)type'.\n",
      "  np_resource = np.dtype([(\"resource\", np.ubyte, 1)])\n"
     ]
    }
   ],
   "source": [
    "import numpy as np\n",
    "import pandas as pd\n",
    "from sentence_transformers import SentenceTransformer, util"
   ]
  },
  {
   "cell_type": "code",
   "execution_count": 39,
   "metadata": {},
   "outputs": [],
   "source": [
    "embedder = SentenceTransformer('distiluse-base-multilingual-cased-v2')"
   ]
  },
  {
   "cell_type": "code",
   "execution_count": 70,
   "metadata": {},
   "outputs": [
    {
     "name": "stdout",
     "output_type": "stream",
     "text": [
      "느낌표로 시작하는 문장을 입력해주세요게임 같이 하실 분\n"
     ]
    }
   ],
   "source": [
    "query = input(\"느낌표로 시작하는 문장을 입력해주세요\")"
   ]
  },
  {
   "cell_type": "code",
   "execution_count": 71,
   "metadata": {},
   "outputs": [],
   "source": [
    "corpus_embeddings = embedder.encode(corpus, convert_to_tensor=True)\n",
    "query_embedding = embedder.encode(query, convert_to_tensor=True)"
   ]
  },
  {
   "cell_type": "code",
   "execution_count": 72,
   "metadata": {},
   "outputs": [],
   "source": [
    "cos_scores = util.pytorch_cos_sim(query_embedding, corpus_embeddings)[0]"
   ]
  },
  {
   "cell_type": "code",
   "execution_count": 73,
   "metadata": {},
   "outputs": [
    {
     "name": "stdout",
     "output_type": "stream",
     "text": [
      "1번 게임하기 (Score: 0.8382)\n",
      "1번 김상엽 (Score: 0.8382)\n",
      "2번 게임 하는 것을 좋아한다 (Score: 0.6533)\n",
      "2번 정현석 (Score: 0.6533)\n",
      "3번 로그라이크류 게임을 좋아합니다 (Score: 0.5888)\n",
      "3번 김기표 (Score: 0.5888)\n",
      "4번 게임을 항상 좋아합니다. (Score: 0.5857)\n",
      "4번 임원빈 (Score: 0.5857)\n",
      "7번 머리쓰는 게임을 할 때 즐거워요. (Score: 0.5233)\n",
      "7번 이지율 (Score: 0.5233)\n"
     ]
    }
   ],
   "source": [
    "top_k = 10\n",
    "top_results = np.argpartition(-cos_scores, range(top_k))\n",
    "\n",
    "name_overlap=[]\n",
    "\n",
    "number=1\n",
    "\n",
    "for i, idx in enumerate(top_results[0:top_k]):\n",
    "    if number>5:\n",
    "        break\n",
    "    if cos_scores[idx] > 0.5:\n",
    "        if not name[idx] in name_overlap:\n",
    "            print(str(i+1)+\"번 \"+corpus[idx].strip(), \"(Score: %.4f)\" % (cos_scores[idx]))\n",
    "            print(str(i+1)+\"번 \"+name[idx].strip(), \"(Score: %.4f)\" % (cos_scores[idx]))\n",
    "            name_overlap.append(name[idx].strip())\n",
    "            number +=1"
   ]
  },
  {
   "cell_type": "code",
   "execution_count": 74,
   "metadata": {},
   "outputs": [
    {
     "name": "stdout",
     "output_type": "stream",
     "text": [
      "tensor([263,  27, 174,  17, 176,  21, 123, 124,  53, 173,  10,  11,  12,  13,\n",
      "         14,  15,  16,   3,  18,  19,  20,   5,  22,  23,  24,  25,  26,   1,\n",
      "         28,  29,  30,  31,  32,  33,  34,  35,  36,  37,  38,  39,  40,  41,\n",
      "         42,  43,  44,  45,  46,  47,  48,  49,  50,  51,  52,   8,  54,  55,\n",
      "         56,  57,  58,  59,  60,  61,  62,  63,  64,  65,  66,  67,  68,  69,\n",
      "         70,  71,  72,  73,  74,  75,  76,  77,  78,  79,  80,  81,  82,  83,\n",
      "         84,  85,  86,  87,  88,  89,  90,  91,  92,  93,  94,  95,  96,  97,\n",
      "         98,  99, 100, 101, 102, 103, 104, 105, 106, 107, 108, 109, 110, 111,\n",
      "        112, 113, 114, 115, 116, 117, 118, 119, 120, 121, 122,   6,   7, 125,\n",
      "        126, 127, 128, 129, 130, 131, 132, 133, 134, 135, 136, 137, 138, 139,\n",
      "        140, 141, 142, 143, 144, 145, 146, 147, 148, 149, 150, 151, 152, 153,\n",
      "        154, 155, 156, 157, 158, 159, 160, 161, 162, 163, 164, 165, 166, 167,\n",
      "        168, 169, 170, 171, 172,   9,   2, 175,   4, 177, 178, 179, 180, 181,\n",
      "        182, 183, 184, 185, 186, 187, 188, 189, 190, 191, 192, 193, 194, 195,\n",
      "        196, 197, 198, 199, 200, 201, 202, 203, 204, 205, 206, 207, 208, 209,\n",
      "        210, 211, 212, 213, 214, 215, 216, 217, 218, 219, 220, 221, 222, 223,\n",
      "        224, 225, 226, 227, 228, 229, 230, 231, 232, 233, 234, 235, 236, 237,\n",
      "        238, 239, 240, 241, 242, 243, 244, 245, 246, 247, 248, 249, 250, 251,\n",
      "        252, 253, 254, 255, 256, 257, 258, 259, 260, 261, 262,   0])\n"
     ]
    }
   ],
   "source": [
    "print(top_results)"
   ]
  },
  {
   "cell_type": "code",
   "execution_count": 75,
   "metadata": {},
   "outputs": [
    {
     "name": "stdout",
     "output_type": "stream",
     "text": [
      "['김상엽', '정현석', '김기표', '임원빈', '이지율']\n"
     ]
    }
   ],
   "source": [
    "print(name_overlap)"
   ]
  },
  {
   "cell_type": "code",
   "execution_count": null,
   "metadata": {},
   "outputs": [],
   "source": []
  }
 ],
 "metadata": {
  "kernelspec": {
   "display_name": "Python 3",
   "language": "python",
   "name": "python3"
  },
  "language_info": {
   "codemirror_mode": {
    "name": "ipython",
    "version": 3
   },
   "file_extension": ".py",
   "mimetype": "text/x-python",
   "name": "python",
   "nbconvert_exporter": "python",
   "pygments_lexer": "ipython3",
   "version": "3.7.6"
  }
 },
 "nbformat": 4,
 "nbformat_minor": 4
}
