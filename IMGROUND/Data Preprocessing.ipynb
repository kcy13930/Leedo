{
 "cells": [
  {
   "cell_type": "code",
   "execution_count": 1,
   "metadata": {},
   "outputs": [],
   "source": [
    "import pandas as pd\n",
    "import openpyxl"
   ]
  },
  {
   "cell_type": "code",
   "execution_count": 2,
   "metadata": {},
   "outputs": [
    {
     "name": "stderr",
     "output_type": "stream",
     "text": [
      "C:\\Users\\PC\\miniconda3\\lib\\site-packages\\IPython\\core\\interactiveshell.py:3063: DtypeWarning: Columns (1,2,4) have mixed types.Specify dtype option on import or set low_memory=False.\n",
      "  interactivity=interactivity, compiler=compiler, result=result)\n"
     ]
    }
   ],
   "source": [
    "df = pd.read_csv(\"Leedo_Dataset2.csv\")"
   ]
  },
  {
   "cell_type": "code",
   "execution_count": 3,
   "metadata": {},
   "outputs": [
    {
     "data": {
      "text/html": [
       "<div>\n",
       "<style scoped>\n",
       "    .dataframe tbody tr th:only-of-type {\n",
       "        vertical-align: middle;\n",
       "    }\n",
       "\n",
       "    .dataframe tbody tr th {\n",
       "        vertical-align: top;\n",
       "    }\n",
       "\n",
       "    .dataframe thead th {\n",
       "        text-align: right;\n",
       "    }\n",
       "</style>\n",
       "<table border=\"1\" class=\"dataframe\">\n",
       "  <thead>\n",
       "    <tr style=\"text-align: right;\">\n",
       "      <th></th>\n",
       "      <th>index</th>\n",
       "      <th>name</th>\n",
       "      <th>content</th>\n",
       "      <th>name_index</th>\n",
       "      <th>theme</th>\n",
       "      <th>theme_index</th>\n",
       "    </tr>\n",
       "  </thead>\n",
       "  <tbody>\n",
       "    <tr>\n",
       "      <th>0</th>\n",
       "      <td>1.0</td>\n",
       "      <td>김유리</td>\n",
       "      <td>제 주전공은 인간의 마음과 행동에 대해 연구하는 심리학입니다.</td>\n",
       "      <td>1.0</td>\n",
       "      <td>심리학</td>\n",
       "      <td>1.0</td>\n",
       "    </tr>\n",
       "    <tr>\n",
       "      <th>1</th>\n",
       "      <td>2.0</td>\n",
       "      <td>김유리</td>\n",
       "      <td>사람 자체에 대한 관심도 많고, 정신적으로 어려움을 겪는 사람들을 돕고 싶어 심리학...</td>\n",
       "      <td>1.0</td>\n",
       "      <td>심리학</td>\n",
       "      <td>1.0</td>\n",
       "    </tr>\n",
       "    <tr>\n",
       "      <th>2</th>\n",
       "      <td>3.0</td>\n",
       "      <td>김유리</td>\n",
       "      <td>다양한 상황에서 사람들이 어떤 것을 느끼고 생각하며, 그에 따라 왜 행동하는지를 공...</td>\n",
       "      <td>1.0</td>\n",
       "      <td>심리학</td>\n",
       "      <td>1.0</td>\n",
       "    </tr>\n",
       "    <tr>\n",
       "      <th>3</th>\n",
       "      <td>4.0</td>\n",
       "      <td>김유리</td>\n",
       "      <td>지금까지도 심리학 관련 논문과 책 읽기를 즐겨하고 있어요!</td>\n",
       "      <td>1.0</td>\n",
       "      <td>심리학</td>\n",
       "      <td>1.0</td>\n",
       "    </tr>\n",
       "    <tr>\n",
       "      <th>4</th>\n",
       "      <td>5.0</td>\n",
       "      <td>김유리</td>\n",
       "      <td>인공지능에 대해 배우고 싶다는 마음을 품은 채 대학교에 입학했어요</td>\n",
       "      <td>1.0</td>\n",
       "      <td>인공지능</td>\n",
       "      <td>2.0</td>\n",
       "    </tr>\n",
       "    <tr>\n",
       "      <th>...</th>\n",
       "      <td>...</td>\n",
       "      <td>...</td>\n",
       "      <td>...</td>\n",
       "      <td>...</td>\n",
       "      <td>...</td>\n",
       "      <td>...</td>\n",
       "    </tr>\n",
       "    <tr>\n",
       "      <th>1048570</th>\n",
       "      <td>NaN</td>\n",
       "      <td>NaN</td>\n",
       "      <td>NaN</td>\n",
       "      <td>NaN</td>\n",
       "      <td>NaN</td>\n",
       "      <td>NaN</td>\n",
       "    </tr>\n",
       "    <tr>\n",
       "      <th>1048571</th>\n",
       "      <td>NaN</td>\n",
       "      <td>NaN</td>\n",
       "      <td>NaN</td>\n",
       "      <td>NaN</td>\n",
       "      <td>NaN</td>\n",
       "      <td>NaN</td>\n",
       "    </tr>\n",
       "    <tr>\n",
       "      <th>1048572</th>\n",
       "      <td>NaN</td>\n",
       "      <td>NaN</td>\n",
       "      <td>NaN</td>\n",
       "      <td>NaN</td>\n",
       "      <td>NaN</td>\n",
       "      <td>NaN</td>\n",
       "    </tr>\n",
       "    <tr>\n",
       "      <th>1048573</th>\n",
       "      <td>NaN</td>\n",
       "      <td>NaN</td>\n",
       "      <td>NaN</td>\n",
       "      <td>NaN</td>\n",
       "      <td>NaN</td>\n",
       "      <td>NaN</td>\n",
       "    </tr>\n",
       "    <tr>\n",
       "      <th>1048574</th>\n",
       "      <td>NaN</td>\n",
       "      <td>NaN</td>\n",
       "      <td>NaN</td>\n",
       "      <td>NaN</td>\n",
       "      <td>NaN</td>\n",
       "      <td>NaN</td>\n",
       "    </tr>\n",
       "  </tbody>\n",
       "</table>\n",
       "<p>1048575 rows × 6 columns</p>\n",
       "</div>"
      ],
      "text/plain": [
       "         index name                                            content  \\\n",
       "0          1.0  김유리                 제 주전공은 인간의 마음과 행동에 대해 연구하는 심리학입니다.   \n",
       "1          2.0  김유리  사람 자체에 대한 관심도 많고, 정신적으로 어려움을 겪는 사람들을 돕고 싶어 심리학...   \n",
       "2          3.0  김유리  다양한 상황에서 사람들이 어떤 것을 느끼고 생각하며, 그에 따라 왜 행동하는지를 공...   \n",
       "3          4.0  김유리                   지금까지도 심리학 관련 논문과 책 읽기를 즐겨하고 있어요!   \n",
       "4          5.0  김유리               인공지능에 대해 배우고 싶다는 마음을 품은 채 대학교에 입학했어요   \n",
       "...        ...  ...                                                ...   \n",
       "1048570    NaN  NaN                                                NaN   \n",
       "1048571    NaN  NaN                                                NaN   \n",
       "1048572    NaN  NaN                                                NaN   \n",
       "1048573    NaN  NaN                                                NaN   \n",
       "1048574    NaN  NaN                                                NaN   \n",
       "\n",
       "         name_index theme  theme_index  \n",
       "0               1.0   심리학          1.0  \n",
       "1               1.0   심리학          1.0  \n",
       "2               1.0   심리학          1.0  \n",
       "3               1.0   심리학          1.0  \n",
       "4               1.0  인공지능          2.0  \n",
       "...             ...   ...          ...  \n",
       "1048570         NaN   NaN          NaN  \n",
       "1048571         NaN   NaN          NaN  \n",
       "1048572         NaN   NaN          NaN  \n",
       "1048573         NaN   NaN          NaN  \n",
       "1048574         NaN   NaN          NaN  \n",
       "\n",
       "[1048575 rows x 6 columns]"
      ]
     },
     "execution_count": 3,
     "metadata": {},
     "output_type": "execute_result"
    }
   ],
   "source": [
    "df"
   ]
  },
  {
   "cell_type": "code",
   "execution_count": 4,
   "metadata": {},
   "outputs": [],
   "source": [
    "df_drop_column = df.dropna(axis=0)"
   ]
  },
  {
   "cell_type": "code",
   "execution_count": 5,
   "metadata": {},
   "outputs": [
    {
     "data": {
      "text/html": [
       "<div>\n",
       "<style scoped>\n",
       "    .dataframe tbody tr th:only-of-type {\n",
       "        vertical-align: middle;\n",
       "    }\n",
       "\n",
       "    .dataframe tbody tr th {\n",
       "        vertical-align: top;\n",
       "    }\n",
       "\n",
       "    .dataframe thead th {\n",
       "        text-align: right;\n",
       "    }\n",
       "</style>\n",
       "<table border=\"1\" class=\"dataframe\">\n",
       "  <thead>\n",
       "    <tr style=\"text-align: right;\">\n",
       "      <th></th>\n",
       "      <th>index</th>\n",
       "      <th>name</th>\n",
       "      <th>content</th>\n",
       "      <th>name_index</th>\n",
       "      <th>theme</th>\n",
       "      <th>theme_index</th>\n",
       "    </tr>\n",
       "  </thead>\n",
       "  <tbody>\n",
       "    <tr>\n",
       "      <th>0</th>\n",
       "      <td>1.0</td>\n",
       "      <td>김유리</td>\n",
       "      <td>제 주전공은 인간의 마음과 행동에 대해 연구하는 심리학입니다.</td>\n",
       "      <td>1.0</td>\n",
       "      <td>심리학</td>\n",
       "      <td>1.0</td>\n",
       "    </tr>\n",
       "    <tr>\n",
       "      <th>1</th>\n",
       "      <td>2.0</td>\n",
       "      <td>김유리</td>\n",
       "      <td>사람 자체에 대한 관심도 많고, 정신적으로 어려움을 겪는 사람들을 돕고 싶어 심리학...</td>\n",
       "      <td>1.0</td>\n",
       "      <td>심리학</td>\n",
       "      <td>1.0</td>\n",
       "    </tr>\n",
       "    <tr>\n",
       "      <th>2</th>\n",
       "      <td>3.0</td>\n",
       "      <td>김유리</td>\n",
       "      <td>다양한 상황에서 사람들이 어떤 것을 느끼고 생각하며, 그에 따라 왜 행동하는지를 공...</td>\n",
       "      <td>1.0</td>\n",
       "      <td>심리학</td>\n",
       "      <td>1.0</td>\n",
       "    </tr>\n",
       "    <tr>\n",
       "      <th>3</th>\n",
       "      <td>4.0</td>\n",
       "      <td>김유리</td>\n",
       "      <td>지금까지도 심리학 관련 논문과 책 읽기를 즐겨하고 있어요!</td>\n",
       "      <td>1.0</td>\n",
       "      <td>심리학</td>\n",
       "      <td>1.0</td>\n",
       "    </tr>\n",
       "    <tr>\n",
       "      <th>4</th>\n",
       "      <td>5.0</td>\n",
       "      <td>김유리</td>\n",
       "      <td>인공지능에 대해 배우고 싶다는 마음을 품은 채 대학교에 입학했어요</td>\n",
       "      <td>1.0</td>\n",
       "      <td>인공지능</td>\n",
       "      <td>2.0</td>\n",
       "    </tr>\n",
       "    <tr>\n",
       "      <th>...</th>\n",
       "      <td>...</td>\n",
       "      <td>...</td>\n",
       "      <td>...</td>\n",
       "      <td>...</td>\n",
       "      <td>...</td>\n",
       "      <td>...</td>\n",
       "    </tr>\n",
       "    <tr>\n",
       "      <th>259</th>\n",
       "      <td>260.0</td>\n",
       "      <td>김상엽</td>\n",
       "      <td>개발서적 리뷰 웹 서로 프로젝트를 진행합니다</td>\n",
       "      <td>34.0</td>\n",
       "      <td>웹</td>\n",
       "      <td>3.0</td>\n",
       "    </tr>\n",
       "    <tr>\n",
       "      <th>260</th>\n",
       "      <td>261.0</td>\n",
       "      <td>김상엽</td>\n",
       "      <td>자바와 웹쪽을 좀더 공부할 것 같습니다</td>\n",
       "      <td>34.0</td>\n",
       "      <td>웹</td>\n",
       "      <td>3.0</td>\n",
       "    </tr>\n",
       "    <tr>\n",
       "      <th>261</th>\n",
       "      <td>262.0</td>\n",
       "      <td>김상엽</td>\n",
       "      <td>농구도 좋아합니다.</td>\n",
       "      <td>34.0</td>\n",
       "      <td>농구</td>\n",
       "      <td>19.0</td>\n",
       "    </tr>\n",
       "    <tr>\n",
       "      <th>262</th>\n",
       "      <td>263.0</td>\n",
       "      <td>김상엽</td>\n",
       "      <td>유튜브 보기</td>\n",
       "      <td>34.0</td>\n",
       "      <td>유튜브</td>\n",
       "      <td>40.0</td>\n",
       "    </tr>\n",
       "    <tr>\n",
       "      <th>263</th>\n",
       "      <td>264.0</td>\n",
       "      <td>김상엽</td>\n",
       "      <td>게임하기</td>\n",
       "      <td>34.0</td>\n",
       "      <td>게임</td>\n",
       "      <td>11.0</td>\n",
       "    </tr>\n",
       "  </tbody>\n",
       "</table>\n",
       "<p>264 rows × 6 columns</p>\n",
       "</div>"
      ],
      "text/plain": [
       "     index name                                            content  \\\n",
       "0      1.0  김유리                 제 주전공은 인간의 마음과 행동에 대해 연구하는 심리학입니다.   \n",
       "1      2.0  김유리  사람 자체에 대한 관심도 많고, 정신적으로 어려움을 겪는 사람들을 돕고 싶어 심리학...   \n",
       "2      3.0  김유리  다양한 상황에서 사람들이 어떤 것을 느끼고 생각하며, 그에 따라 왜 행동하는지를 공...   \n",
       "3      4.0  김유리                   지금까지도 심리학 관련 논문과 책 읽기를 즐겨하고 있어요!   \n",
       "4      5.0  김유리               인공지능에 대해 배우고 싶다는 마음을 품은 채 대학교에 입학했어요   \n",
       "..     ...  ...                                                ...   \n",
       "259  260.0  김상엽                           개발서적 리뷰 웹 서로 프로젝트를 진행합니다   \n",
       "260  261.0  김상엽                              자바와 웹쪽을 좀더 공부할 것 같습니다   \n",
       "261  262.0  김상엽                                         농구도 좋아합니다.   \n",
       "262  263.0  김상엽                                             유튜브 보기   \n",
       "263  264.0  김상엽                                               게임하기   \n",
       "\n",
       "     name_index theme  theme_index  \n",
       "0           1.0   심리학          1.0  \n",
       "1           1.0   심리학          1.0  \n",
       "2           1.0   심리학          1.0  \n",
       "3           1.0   심리학          1.0  \n",
       "4           1.0  인공지능          2.0  \n",
       "..          ...   ...          ...  \n",
       "259        34.0     웹          3.0  \n",
       "260        34.0     웹          3.0  \n",
       "261        34.0    농구         19.0  \n",
       "262        34.0   유튜브         40.0  \n",
       "263        34.0    게임         11.0  \n",
       "\n",
       "[264 rows x 6 columns]"
      ]
     },
     "execution_count": 5,
     "metadata": {},
     "output_type": "execute_result"
    }
   ],
   "source": [
    "df_drop_column"
   ]
  },
  {
   "cell_type": "code",
   "execution_count": 6,
   "metadata": {},
   "outputs": [
    {
     "name": "stdout",
     "output_type": "stream",
     "text": [
      "264\n"
     ]
    }
   ],
   "source": [
    "#index 개수 추출\n",
    "\n",
    "index_len=len(df_drop_column.index)\n",
    "print(index_len)"
   ]
  },
  {
   "cell_type": "code",
   "execution_count": 15,
   "metadata": {},
   "outputs": [],
   "source": [
    "df_drop_column.to_json('df.json')"
   ]
  },
  {
   "cell_type": "code",
   "execution_count": 17,
   "metadata": {},
   "outputs": [],
   "source": [
    "test=pd.read_json('df.json')"
   ]
  },
  {
   "cell_type": "code",
   "execution_count": 18,
   "metadata": {},
   "outputs": [
    {
     "data": {
      "text/html": [
       "<div>\n",
       "<style scoped>\n",
       "    .dataframe tbody tr th:only-of-type {\n",
       "        vertical-align: middle;\n",
       "    }\n",
       "\n",
       "    .dataframe tbody tr th {\n",
       "        vertical-align: top;\n",
       "    }\n",
       "\n",
       "    .dataframe thead th {\n",
       "        text-align: right;\n",
       "    }\n",
       "</style>\n",
       "<table border=\"1\" class=\"dataframe\">\n",
       "  <thead>\n",
       "    <tr style=\"text-align: right;\">\n",
       "      <th></th>\n",
       "      <th>index</th>\n",
       "      <th>name</th>\n",
       "      <th>content</th>\n",
       "      <th>name_index</th>\n",
       "      <th>theme</th>\n",
       "      <th>theme_index</th>\n",
       "    </tr>\n",
       "  </thead>\n",
       "  <tbody>\n",
       "    <tr>\n",
       "      <th>0</th>\n",
       "      <td>1</td>\n",
       "      <td>김유리</td>\n",
       "      <td>제 주전공은 인간의 마음과 행동에 대해 연구하는 심리학입니다.</td>\n",
       "      <td>1</td>\n",
       "      <td>심리학</td>\n",
       "      <td>1</td>\n",
       "    </tr>\n",
       "    <tr>\n",
       "      <th>1</th>\n",
       "      <td>2</td>\n",
       "      <td>김유리</td>\n",
       "      <td>사람 자체에 대한 관심도 많고, 정신적으로 어려움을 겪는 사람들을 돕고 싶어 심리학...</td>\n",
       "      <td>1</td>\n",
       "      <td>심리학</td>\n",
       "      <td>1</td>\n",
       "    </tr>\n",
       "    <tr>\n",
       "      <th>2</th>\n",
       "      <td>3</td>\n",
       "      <td>김유리</td>\n",
       "      <td>다양한 상황에서 사람들이 어떤 것을 느끼고 생각하며, 그에 따라 왜 행동하는지를 공...</td>\n",
       "      <td>1</td>\n",
       "      <td>심리학</td>\n",
       "      <td>1</td>\n",
       "    </tr>\n",
       "    <tr>\n",
       "      <th>3</th>\n",
       "      <td>4</td>\n",
       "      <td>김유리</td>\n",
       "      <td>지금까지도 심리학 관련 논문과 책 읽기를 즐겨하고 있어요!</td>\n",
       "      <td>1</td>\n",
       "      <td>심리학</td>\n",
       "      <td>1</td>\n",
       "    </tr>\n",
       "    <tr>\n",
       "      <th>4</th>\n",
       "      <td>5</td>\n",
       "      <td>김유리</td>\n",
       "      <td>인공지능에 대해 배우고 싶다는 마음을 품은 채 대학교에 입학했어요</td>\n",
       "      <td>1</td>\n",
       "      <td>인공지능</td>\n",
       "      <td>2</td>\n",
       "    </tr>\n",
       "    <tr>\n",
       "      <th>...</th>\n",
       "      <td>...</td>\n",
       "      <td>...</td>\n",
       "      <td>...</td>\n",
       "      <td>...</td>\n",
       "      <td>...</td>\n",
       "      <td>...</td>\n",
       "    </tr>\n",
       "    <tr>\n",
       "      <th>259</th>\n",
       "      <td>260</td>\n",
       "      <td>김상엽</td>\n",
       "      <td>개발서적 리뷰 웹 서로 프로젝트를 진행합니다</td>\n",
       "      <td>34</td>\n",
       "      <td>웹</td>\n",
       "      <td>3</td>\n",
       "    </tr>\n",
       "    <tr>\n",
       "      <th>260</th>\n",
       "      <td>261</td>\n",
       "      <td>김상엽</td>\n",
       "      <td>자바와 웹쪽을 좀더 공부할 것 같습니다</td>\n",
       "      <td>34</td>\n",
       "      <td>웹</td>\n",
       "      <td>3</td>\n",
       "    </tr>\n",
       "    <tr>\n",
       "      <th>261</th>\n",
       "      <td>262</td>\n",
       "      <td>김상엽</td>\n",
       "      <td>농구도 좋아합니다.</td>\n",
       "      <td>34</td>\n",
       "      <td>농구</td>\n",
       "      <td>19</td>\n",
       "    </tr>\n",
       "    <tr>\n",
       "      <th>262</th>\n",
       "      <td>263</td>\n",
       "      <td>김상엽</td>\n",
       "      <td>유튜브 보기</td>\n",
       "      <td>34</td>\n",
       "      <td>유튜브</td>\n",
       "      <td>40</td>\n",
       "    </tr>\n",
       "    <tr>\n",
       "      <th>263</th>\n",
       "      <td>264</td>\n",
       "      <td>김상엽</td>\n",
       "      <td>게임하기</td>\n",
       "      <td>34</td>\n",
       "      <td>게임</td>\n",
       "      <td>11</td>\n",
       "    </tr>\n",
       "  </tbody>\n",
       "</table>\n",
       "<p>264 rows × 6 columns</p>\n",
       "</div>"
      ],
      "text/plain": [
       "     index name                                            content  \\\n",
       "0        1  김유리                 제 주전공은 인간의 마음과 행동에 대해 연구하는 심리학입니다.   \n",
       "1        2  김유리  사람 자체에 대한 관심도 많고, 정신적으로 어려움을 겪는 사람들을 돕고 싶어 심리학...   \n",
       "2        3  김유리  다양한 상황에서 사람들이 어떤 것을 느끼고 생각하며, 그에 따라 왜 행동하는지를 공...   \n",
       "3        4  김유리                   지금까지도 심리학 관련 논문과 책 읽기를 즐겨하고 있어요!   \n",
       "4        5  김유리               인공지능에 대해 배우고 싶다는 마음을 품은 채 대학교에 입학했어요   \n",
       "..     ...  ...                                                ...   \n",
       "259    260  김상엽                           개발서적 리뷰 웹 서로 프로젝트를 진행합니다   \n",
       "260    261  김상엽                              자바와 웹쪽을 좀더 공부할 것 같습니다   \n",
       "261    262  김상엽                                         농구도 좋아합니다.   \n",
       "262    263  김상엽                                             유튜브 보기   \n",
       "263    264  김상엽                                               게임하기   \n",
       "\n",
       "     name_index theme  theme_index  \n",
       "0             1   심리학            1  \n",
       "1             1   심리학            1  \n",
       "2             1   심리학            1  \n",
       "3             1   심리학            1  \n",
       "4             1  인공지능            2  \n",
       "..          ...   ...          ...  \n",
       "259          34     웹            3  \n",
       "260          34     웹            3  \n",
       "261          34    농구           19  \n",
       "262          34   유튜브           40  \n",
       "263          34    게임           11  \n",
       "\n",
       "[264 rows x 6 columns]"
      ]
     },
     "execution_count": 18,
     "metadata": {},
     "output_type": "execute_result"
    }
   ],
   "source": [
    "test"
   ]
  },
  {
   "cell_type": "code",
   "execution_count": 12,
   "metadata": {},
   "outputs": [
    {
     "name": "stderr",
     "output_type": "stream",
     "text": [
      "C:\\Users\\PC\\miniconda3\\lib\\site-packages\\tensorflow\\python\\framework\\dtypes.py:516: FutureWarning: Passing (type, 1) or '1type' as a synonym of type is deprecated; in a future version of numpy, it will be understood as (type, (1,)) / '(1,)type'.\n",
      "  _np_qint8 = np.dtype([(\"qint8\", np.int8, 1)])\n",
      "C:\\Users\\PC\\miniconda3\\lib\\site-packages\\tensorflow\\python\\framework\\dtypes.py:517: FutureWarning: Passing (type, 1) or '1type' as a synonym of type is deprecated; in a future version of numpy, it will be understood as (type, (1,)) / '(1,)type'.\n",
      "  _np_quint8 = np.dtype([(\"quint8\", np.uint8, 1)])\n",
      "C:\\Users\\PC\\miniconda3\\lib\\site-packages\\tensorflow\\python\\framework\\dtypes.py:518: FutureWarning: Passing (type, 1) or '1type' as a synonym of type is deprecated; in a future version of numpy, it will be understood as (type, (1,)) / '(1,)type'.\n",
      "  _np_qint16 = np.dtype([(\"qint16\", np.int16, 1)])\n",
      "C:\\Users\\PC\\miniconda3\\lib\\site-packages\\tensorflow\\python\\framework\\dtypes.py:519: FutureWarning: Passing (type, 1) or '1type' as a synonym of type is deprecated; in a future version of numpy, it will be understood as (type, (1,)) / '(1,)type'.\n",
      "  _np_quint16 = np.dtype([(\"quint16\", np.uint16, 1)])\n",
      "C:\\Users\\PC\\miniconda3\\lib\\site-packages\\tensorflow\\python\\framework\\dtypes.py:520: FutureWarning: Passing (type, 1) or '1type' as a synonym of type is deprecated; in a future version of numpy, it will be understood as (type, (1,)) / '(1,)type'.\n",
      "  _np_qint32 = np.dtype([(\"qint32\", np.int32, 1)])\n",
      "C:\\Users\\PC\\miniconda3\\lib\\site-packages\\tensorflow\\python\\framework\\dtypes.py:525: FutureWarning: Passing (type, 1) or '1type' as a synonym of type is deprecated; in a future version of numpy, it will be understood as (type, (1,)) / '(1,)type'.\n",
      "  np_resource = np.dtype([(\"resource\", np.ubyte, 1)])\n",
      "C:\\Users\\PC\\miniconda3\\lib\\site-packages\\tensorboard\\compat\\tensorflow_stub\\dtypes.py:541: FutureWarning: Passing (type, 1) or '1type' as a synonym of type is deprecated; in a future version of numpy, it will be understood as (type, (1,)) / '(1,)type'.\n",
      "  _np_qint8 = np.dtype([(\"qint8\", np.int8, 1)])\n",
      "C:\\Users\\PC\\miniconda3\\lib\\site-packages\\tensorboard\\compat\\tensorflow_stub\\dtypes.py:542: FutureWarning: Passing (type, 1) or '1type' as a synonym of type is deprecated; in a future version of numpy, it will be understood as (type, (1,)) / '(1,)type'.\n",
      "  _np_quint8 = np.dtype([(\"quint8\", np.uint8, 1)])\n",
      "C:\\Users\\PC\\miniconda3\\lib\\site-packages\\tensorboard\\compat\\tensorflow_stub\\dtypes.py:543: FutureWarning: Passing (type, 1) or '1type' as a synonym of type is deprecated; in a future version of numpy, it will be understood as (type, (1,)) / '(1,)type'.\n",
      "  _np_qint16 = np.dtype([(\"qint16\", np.int16, 1)])\n",
      "C:\\Users\\PC\\miniconda3\\lib\\site-packages\\tensorboard\\compat\\tensorflow_stub\\dtypes.py:544: FutureWarning: Passing (type, 1) or '1type' as a synonym of type is deprecated; in a future version of numpy, it will be understood as (type, (1,)) / '(1,)type'.\n",
      "  _np_quint16 = np.dtype([(\"quint16\", np.uint16, 1)])\n",
      "C:\\Users\\PC\\miniconda3\\lib\\site-packages\\tensorboard\\compat\\tensorflow_stub\\dtypes.py:545: FutureWarning: Passing (type, 1) or '1type' as a synonym of type is deprecated; in a future version of numpy, it will be understood as (type, (1,)) / '(1,)type'.\n",
      "  _np_qint32 = np.dtype([(\"qint32\", np.int32, 1)])\n",
      "C:\\Users\\PC\\miniconda3\\lib\\site-packages\\tensorboard\\compat\\tensorflow_stub\\dtypes.py:550: FutureWarning: Passing (type, 1) or '1type' as a synonym of type is deprecated; in a future version of numpy, it will be understood as (type, (1,)) / '(1,)type'.\n",
      "  np_resource = np.dtype([(\"resource\", np.ubyte, 1)])\n"
     ]
    }
   ],
   "source": [
    "import numpy as np\n",
    "import pandas as pd\n",
    "from sentence_transformers import SentenceTransformer, util"
   ]
  },
  {
   "cell_type": "code",
   "execution_count": 51,
   "metadata": {},
   "outputs": [],
   "source": [
    "embedder = SentenceTransformer('xlm-r-bert-base-nli-stsb-mean-tokens')"
   ]
  },
  {
   "cell_type": "code",
   "execution_count": 21,
   "metadata": {},
   "outputs": [],
   "source": [
    "corpus = df_drop_column['content'].values.tolist()"
   ]
  },
  {
   "cell_type": "code",
   "execution_count": 24,
   "metadata": {},
   "outputs": [],
   "source": [
    "corpus1 = [word.replace('\\xa0',' ') for word in corpus]"
   ]
  },
  {
   "cell_type": "code",
   "execution_count": 25,
   "metadata": {},
   "outputs": [
    {
     "name": "stdout",
     "output_type": "stream",
     "text": [
      "['제 주전공은 인간의 마음과 행동에 대해 연구하는 심리학입니다.', '사람 자체에 대한 관심도 많고, 정신적으로 어려움을 겪는 사람들을 돕고 싶어 심리학과를 선택하게 되었어요.', '다양한 상황에서 사람들이 어떤 것을 느끼고 생각하며, 그에 따라 왜 행동하는지를 공부하면서 심리학이 더더욱 매력적으로 느껴졌어요', '지금까지도 심리학 관련 논문과 책 읽기를 즐겨하고 있어요!', '인공지능에 대해 배우고 싶다는 마음을 품은 채 대학교에 입학했어요', '심리적으로 어려움을 겪는 사람들을 조금이나마 더 행복하게 만드는 일을 하고 싶었거든요. ', '접근성이 좋은 웹, 앱 서비스를 기획하거나 제작하여, 일상 스트레스 관리와 건강한 정신을 유지하는 것부터 경중증 정신장애인의 실질적인 치료까지 관여하고 도움을 주는 일을 하고 싶습니다.', '웹을 다루는 것이 난생 처음이라 배울 것이 넘치고 막연한 느낌이 강하지만, 이런 느낌이 절 더 자극하고 하루하루를 더 알차게 보내는 동기가 되어서 행복해요!', '저에게 하루의 시작과 끝을 기분 좋게 하는 건 스트레칭이 가장 효과적인 것 같아요', '습관이 되기 전에는 아침에 일찍 일어나는 것만으로도 정말 힘들었는데 하루가 쌓여 한 달이 지나면서 가뿐하게 일어나 스트레칭과 운동을 하는 규칙적인 생활과 건강한 몸을 유지할 수 있게 되었어요.', '누군가에게 할 말이 있거나 추억을 공유하고 싶을 땐 편지를 써서 마음을 전하기도 하고, 기억하고 싶거나 특별한 날의 끝에는 일기를 써서 오랫동안 기억하려고 하는 편이에요', \"책을 읽으면서 드는 생각을 한쪽에다 써놓는 것은 (자주 잃어버리지만) 나중에 '내가 이런 생각도 했구나'하고 돌이킬 수 있어서 좋은 것 같아요. \", '보통 ost를 우연히 들었을 때 마음에 들면 그 작품을 찾아보는 편이에요.', '음악 듣는 걸 좋아하기도 하고 ost가 영화의 전반적인 또는 부분적인 분위기를 알려준다는 점이 매력적이에요.', '접근성 좋은 웹/앱 제작과 기획 자체를 하는 것이 목표이기 때문에 그에 필요한 지식들을 차츰차츰 배워나가고 써먹고 싶어요!', '학교에서 인공지능 관련 수업을 듣고 있는데 아직 막연한 느낌이 강하고 프로젝트를 진행하면서 겪는 어려움들이 많아서 따로 시간을 할애해서 인공지능 관련 강의를 수강하는 등 공부를 더 해보고 싶습니다.', ' CG (컴퓨터 그래픽) 그리기에 빠져있었습니다.', '게임을 항상 좋아합니다.', '인문학도 항상 좋아합니다.', '클리커 시뮬레이션 + 디펜스 게임을 만들고 있습니다.', '넷플릭스에서 빅뱅 이론을 주로 봅니다.', '위쳐3라는 게임를 조금씩 하고 있습니다', '인스타그램 클론코딩을 진행합니다', '웹페이지를 꾸미는것도 너무너무 좋아합니다', '가 구현하고 싶은 아이디어에는 머신러닝이 많이 쓰이더라구요', '개발하면서 백엔드 메커니즘이 가장 낯설었는데 그래서 그런지 더 관심이 가더라구요', '저는 머신러닝 (강화학습) 이랑 서버 공부를 하고싶어요', '게임 하는 것을 좋아한다', '게임을 직접 만드는 것도 재밌지 않을까 라는 생각이 들었습니다.', '즐겁게 게임을 만들며 대학 생활을 지내고 있습니다.', '클리커 시뮬레이션 게임 프로젝트 <Tabby>를 진행하고 있습니다.', '플레이 스토어에 출시하는 것을 목표로 삼고 있습니다.', '사람들과 어울리며 하루종일 대화하는 것을 좋아합니다.', '게임으로 플레이어 분들을 행복하게 만드는 것도 즐겁습니다.', '관광지 안내 사이트처럼 실생활에 도움이 되는 웹을 만드는 것도 재밌을 것 같습니다.', '운동 좋아합니다.', '노래방 좋아합니다.', '당구장 좋아합니다..', '피시방 좋아합니다.', '볼링장 좋아합니다.', '카페 좋아합니다.', '제 전공은 전자공학과입니다.', '모바일 앱팀에 들어가서 안드로이드 프로그래밍에 대해서 배우고 있는 중입니다.', '자바언어를 공부하고 있습니다.', '안드로이드 스튜디오를 공부하고 있습니다.', '농구를 굉장히 좋아합니다.', '공부를 할 때든 빨래를 널 때든 운동을 할 때든 게임을 할 때는 늘 음악듣기가 있어야 더 잘되는 것을 느낍니다.', '음악듣기를 굉장히 좋아합니다. ', '술자리를 엄청나게 좋아합니다. ', '일본으로 교환학생 갔습니다.', '인스타에 일본 친구들이 한국 친구들보다 더 많습니다.', '일본어에 대한 감을 잃고 싶지 않아서 일본 노래 자주 듣습니다.', '웹 멘토링에서 놀랍게도 멘토 역할을 맡고 있습니다.', '카트라이더 러쉬플러스라는 게임을 하고 있습니다.', '포켓몬스터 치코리타라는 캐릭터를 좋아합니다.', '클라이언트 사이드에서 실시간 데이터를 효율적으로 불러오고, 렌더링하는 방법에 대해 공부하고 싶습니다.', '디자인을 사랑하는 iOS 개발자가 되고 싶습니다.', 'iOS 프로젝트를 해보고 더 재미있어서 iOS로 전향했습니다.', 'iOS 개발자가 되기 위해서 코드스쿼드라는 교육기관에서 iOS 개발 공부를 열심히 하고있습니다', '코드스쿼드에서는 백엔드, 프론트, 모바일 iOS 이렇게 3~4명으로 팀을 꾸려서 프로젝트를 진행하고 있어요', 'GitHub블로그에서는 간간히 저의 소식을 전하거나 iOS개발 관련된 정보를 정리해서 올리고 있어요.', '건강을 위해서 시작했는데 유도의 매력에 빠져서 한동안 열심히 다녀서 초단까지 땄습니다', '취업하면 유도를 다시 시작할 생각입니다.', '다양한 영화를 좋아하지만, 디즈니, 픽사 영화를 정말 좋아합니다', '뮤지컬 영화도 좋아해요', '에드시런 노래를 정말 좋아합니다.', '에드시런 콘서트를 섭섭님이랑 함께 다녀왔습니다', '국내 가수는 검정치마, 카더가든 좋아합니다', 'OST도 좋아해요', '넷플릭스에 있는 미드를 주로 보는데요.', '마블 시리즈 중 넷플릭스 오리지널인 데어데블도 정말 재밌게 봤습니다.', '서버 관리나 하드웨어쪽 기술 자문으로 활동하고 있습니다.', '백엔드 개발자 양성 프로그램인 우아한테크코스에 합격하여 서울에서 자바 스프링 10개월 과정 수업을 듣고 있어요.', \"지난 학기에는 이선경님과 함께 독자를 위한 웹툰 리뷰 플랫폼 '투너'를 만들었습니다.\", '웹 전반에 대한 지식이 현재 우테코 교육을 받으면서 상당히 도움이 되고 있습니다.', '웹툰을 즐겨 봤습니다.', '음악은 상당히 다양한 장르를 들어요.', '작년 정도부터는 가사 없는 음악 (EDM)이나 캐러반 팰리스 등 외국 가수 노래를 주로 듣는 중입니다.', '저의 꿈은 백엔드 개발자입니다. ', '11번가에서 전시영역 백엔드 개발자로 일하고 있습니다.', '밤에는 에코노베이션 새싹 팀의 멘토로도 활동하며 코드리뷰, 질의응답, 진로상담, 첨삭, 면접코칭 등을 진행하고 있습니다.', '올해 초에 스토어 플랫폼 제작 프로젝트를 진행했고, 에코노에서는 Java 기반 OOP, Test code, refactoring 교육 프로젝트를 진행했습니다.', '새싹 팀원들 멘토링과 함께 으쌰으쌰라는 플랫폼 서비스도 제작하고 있습니다.', \"중학생 때부터 지금까지 특별히 좋아했던 것은 '힙합' 인데요\", '언더그라운드 힙합에서 나오는 자기 성찰적 가사들이나 내면을 솔직하게 표현해내는 문화에 매료되어서 아직까지 좋아하고 있습니다.', '가요 쪽으로는 김광석, 전인권 같은 옛 가수들의 음악을 좋아합니다.', '멜로디적인 측면에서 요즘 좋아하는 가수는 검정치마, 서사무엘이 있습니다.', '중학생 때는 쇼생크탈출, 죽은시인의사회, 쉰들러리스트, 옥토버스카이 등, 꿈과 관련된 영화거나, 명작 소리 듣는 것들은 다 찾아서 봤던 것 같네요.', '똥파리 같은 독립영화들을 보면서 제가 경험할 수 없는 환경에서 살아가는 사람들을 이해하는 데에 이러한 매체들을 많이 이용하고 좋아하게 된 것 같습니다.', ' 주변 사람들이 잘 가지 않는 곳으로 여행 떠나는걸 좋아합니다.', '앱 개발 동아리에 관심이 있습니다', '분위기 좋은 카페가는것도 좋아합니다', '전시회 구경하는것도 좋아합니다.', '보드게임카페 가는것도 좋아했습니다.', 'IoT분야 스마트 온실 시스템 GREN TECH라는 프로젝트를 상윤님과 하고 있습니다.', '힙합 장르 음악을 좋아해요', '국내 힙합을 주로 다양하게 듣습니다.', '최근 넷플릭스에서 인간수업 정말 흥미롭게 봤습니다!', '대학교 친구들과 동유럽을 다녀왔을때도 좋았습니다.', '서울이나 여수 등 자주는 아니지만 여행을 다녀옵니다.', '여행을 통해 새로운 환경을 구경하고 함께 간 사람들과 추억을 쌓는게 정말 좋은 것 같아요', '로보틱스를 공부하고 있습니다.', 'ROS라는 로봇 미들웨어 소프트웨어를 통해 로봇을 제어하고 인공지능 기술을 적용하는 것들을 배우고 있어요', '해외 여행으로는 홍콩을 혼자 가봤어요', '사람들이 모두 친절하셔서 좋은 기억을 가지고 돌아온 여행이었어요.', ' 원래 겨울방학이 끝나기 전에 밤기차 여행도 가보고 싶었습니다.', '저는 평소에 음악을 정말 많이 들어요', '최근에 빠진 것은 넷플릭스에서 방영하는 슬기로운 의사생활이에요.', '로봇의 경로 추정을 강화학습으로 하는 것에 대해 관심이 있습니다. ', '저는 전남대학교 산학협력관 2호관 205호에 위치한 Southpaw Games에서 게임 클라이언트 개발자역할을 맡고 있습니다.', ' Unity 3D를 이용한 PC / Console 게임을 개발하고 있지요.', '하루를 마치고 집에 들어오면 고양이 집사가 됩니다.', '주인님 이름은 수박이고, 코리안 숏컷 고양이입니다.', 'Southpaw Games에서 제작 중인 프로젝트 Skul : the hero slayer이라는 게임을 개발하고 있습니다.', '음악 연주하는 것을 좋아합니다.', '음악 듣는것을 좋아합니다.', '혼자서 하는 게임은 잘 즐기지 못하는 편이라 롤, 오버워치 등 사람들과 같이 하는 대중적인 게임을 주로 합니다.', '최근에는 전자드럼을 구매했습니다', '저는 게임 클라이언트 개발자가 꿈입니다. ', '저는 다같이 모여서하는 보드게임을 좋아합니다.', '저는 새로운 보드게임을 기획하여 모바일용으로 만들어 보는 것이 에코노베이션에서의 최종목표입니다. ', '노래는 신나는 노래 좋아해요.', '2.5D PC 게임을 만들고 있습니다.', '머리쓰는 게임을 할 때 즐거워요.', '새로운 게임을 구상하는 거는 재밌어요.', '할 일 마무리 하고 넷플릭스로 드라마볼 때 완전 행복합니다', '유니티에 대해 더욱 더 많이 공부 할거에요.', '이번 학기 19기 류현지, 이의종님과 모바일 앱 프로젝트를 맡게 되었어요. ', '지금은 모바일 앱 개발에 필요한 공부들부터 차근차근하는 중이에요.', '저는 여행가는 것을 정말 좋아해요.', '여행에 있어 저만의 가치관이 있다면 내가 그리는 여행을 하자는 거예요.', '작년에 혼자 40일 동안 유럽을 여행한 적이 있는데 그곳에서 느낀거예요. ', '음악을 정말 좋아해요.', '최근에는 팝을 정말 많이 듣는 것 같아요. ', '좋은 팝 아시는 분은 공유해주시면 감사해요', '그리고 운동을 진짜 좋아해요.', '다음 학기에는 웹 개발을 공부해볼 생각입니다.', '제가 웹 페이지를 만들 수 있다면 제 아이디어를 실현화하는데 좋은 기반을 다질 수 있지 않을까 해요', '학교 수업으로 인공지능을 듣고있기는 한데 어렵긴 하지만 좀 더 깊이 있게 배워보고 싶습니다.', '인간의 행동과 사고에 관한 학문인 심리학을 공부하면서, 인간의 삶의 질에 관계된 문제들을 고려해 보고 싶어요', '이번 학기에는 웹 프로젝트로 선물 추천 사이트를 개발하고 있습니다.', ' 저희가 구현한 웹사이트를 볼 수 있어서 재미도 느끼고, 뿌듯함도 느끼면서 개발을 진행하고 있습니다', '멋진 웹사이트를 구현해 낼 수 있도록 더욱 노력할거예요', '유튜브를 많이 보고 있습니다.', \"한국 드라마는 '슬기로운 의사생활'와 미국 드라마 '그레이 아나토미'를 챙겨보고 있습니다.\", '영화관 가서 영화보는 것도 굉장히 좋아합니다.', '해외여행을 정말 가고싶은 요즘인 것 같아요', '가고싶은 여행지들을 가고싶네요', '앱도 공부해 보고 싶어요', '간단한 정보와 함께 그 링크를 저장하는 웹어플리케이션 서비스를 개발하는 프로젝트를 하고 있습니다.', '노래를 듣는 것도을 좋아합니다.', '밴드사운드를 좋아해서 밴드음악을 많이 들어요.', '데이식스 공연만 5번 다녀왔는데', '피아노 연주곡 등의 장르를 좋아해요', '요즘엔 가끔씩 넷플릭스로 보는 중입니다.', '드라마 시그널, 예능 크라임씬같은 범죄추리물을 좋아하고', '라라랜드, 싱스트리트, 비긴어게인같은 음악영화도 즐겨봅니다.', 'SF 장르를 정말 좋아합니다', '저의 인생 드라마는 영국드라마 doctor who', '유튜브 영상들도 종종 보면서 시간을 보냅니다', '닌텐도 스위치 사서 동물의 숲 하고 싶어요', '지금은 개발 자체에 매력을 느껴 지금은 백엔드 개발자가 되려고 열심히 준비 중입니다', '자기 계발 동기부여 웹 서비스 \"으쌰으쌰\" 프로젝트를 진행 중입니다', '피자\\u200b를 정말 좋아합니다.', '풋살도 좋아합니다.', '백엔드 개발을 하다보니 배포 관련된 기술들에 대한 관심도 생기는 것 같습니다', '프론트를 잘아는 , 클라이언트를 잘아는 백엔드 개발자가 되었으면 하는 바램이 있습니다', 'Vue.js를 좀 공부해볼까 생각 중입니다', '에코노 회원님들과 야구장가고 싶어요', '개발자 동기부여 플랫폼을 개발하고 있습니다', '프로젝트에서 프론트 엔드를 담당하고 있습니다', '이미지 편집 툴 웹 사이트인 Pickpic을 개발하고 있습니다', '팝, 댄스, R&B를 많이 듣는 것 같습니다', '노래를 찾아서 들어요', '로그라이크류 게임을 좋아합니다', '요새는 카드 게임에 빠졌습니다', '같이하는 보드게임을 좋아합니다.', '소소하지만 같이 일상적인 대화하는 것을 좋아합니다', 'React를 열심히 공부하고 있고 vue라는 라이브러리도 조금씩 알아가고 있습니다. ', '게임 클라이언트 개발을 공부하고 있습니다.', '걷는 것을 아주 좋아합니다.', 'webper (웹 페이지 스크랩 사이트) 프로젝트에서 서버 개발을 담당하고 있구요', '개발자들이 웹 어플리케이션 서버 개발에 배우고 있습니다', '운동을 열심히 하고 있습니다.', 'iot로 Greentech이라는 프로젝트를 진행중입니다', '딥러닝을 공부하고 싶습니다', '저는 스포츠를 좋아합니다', ' 여행도 주기적으로 가고 있는데', '자기 전에 책 읽다 잠들려고 노력하고 있습니다.', 'LSTM기법을 사용해서 비트코인 분석 프로젝트를 시작하고 있습니다.', '온라인 사용자 리서치 플랫폼을 서비스하는 methinks라는 회사에서 웹 프론트엔드엔지니어로 일하고있습니다', '프론트엔드 일을 하고 있습니다.', '제가 좋아하는 음악 장르는 밴드 음악입니다.', '밴드 음악을 듣는 것이 정말 좋습니다. ', '공연 보러 다니는 것도 매우 좋아합니다', '공연보면서 재밌게 몸을 흔들면 기분이 정말 좋아요.', '영화보는 것을 좋아합니다.', '영화관에 가서 영화를 보면 시각과 청각이 한 곳으로 집중되는 느낌이 좋아요', '여행을 다니는 것도 좋아합니다.', '항상 방학때마다 해외여행을 갖다 왔어요.', '반응형 웹을 공부하고 싶어요. ', '자바스크립트와 함께 차곡차곡 프론트엔드 공부를 하려고 합니다. ', '아이됴아(AIDOA) 인공지능 팀에서 프로젝트를 하고 있습니다.', '저는 Computer Vision에 관심이 많아요.', '인공지능의 기법중에 딥러닝이라는 방법론이 있는데, 그 중에서 이미지/영상처리를 하는 CNN도 자연스럽게 관심을 갖게 되었어요.', '웹팀 소속으로 collusic 이라는 사이트를 만들고 있어요', '라디오를 들으면서 밀린 집안일 하는 것을 좋아해요', '웹 개발에 대한 이야기를 많이 듣고, 조언도 많이 들었습니다.', '심리를 객관적인 단어로 정확하게 표현해서 풀어주게 재미있어서 더욱 관심이 가는 것 같아요', '심리학은 강의 보단 영상이나 책으로 공부하고 싶은 마음이 생깁니다', '음악을 좋아합니다.', '운동을 좋아합니다.', '웨이크보드 라는 운동을 시작했습니다.', '달달하고 부드러운 향을 좋아하게 되었어요 ', '요즘 향수가 사고싶은데 달달구리한 향 알고계시면 추천해주세요!', '디자인학과 4학년에 재학 중인 한수아입니다', '올해부터 피아노 를 배우기 시작했습니다.', ' 평소 요리 하는 걸 좋아해서', '약속 날짜를 추천해 주는 캘린더 애플리케이션 ‘WeMeet’ 을 준비하고 있습니다', '졸업작품으로 인테리어 관련 서비스 애플리케이션을 디자인하였습니다', 'AR 기능을 공부해보고 싶습니다', '일정공유 캘린더 애플리케이션 wemeet을 진행중에 있습니다', '트레일러 쉐어 애플리케이션 pick_t를 진행중입니다.', '어렸을 때부터 친구들과 축구를 즐겨했습니다', '노래를 들으면서 누워있는 것을 좋아합니다', '혼자 요리를 해먹는 일이 많습니다', '인공지능 전문가분들에게 자문을 구하며 다시 인공지능에 도전해보고 싶습니다.', ' 개발자 전용 책 리뷰 사이트를 만들고 있습니다', '심심하면 노래를 틀고 있습니다', '저는 주로 음악을 좋아합니다.', '좀 더 효율적인 백엔드를 짜는 것이 제 목표기 때문에 스프링 공부를 계속해서 할 것입니다', '게임 개발 Genom팀 설민우입니다', '게임에는 많은 관심을 가지고 있었습니다.', \" '체크메이트' 라고 하는 유사닷지 게임을 개발하고 있습니다.\", '타블렛을 이용해서 컴퓨터로 그리는 취미를 갖고 있습니다', '저는 책을 아주 좋아해요', '다양한 분야의 소설들을 좋아합니다.', '유럽 작가 쪽도 관심있게 보고 있습니다.', '게임개발을 잘하고 싶어서 유니티와 C#쪽 공부를 계속하고 있습니다.', '위밋(We meet)이라는 캘린더 애플리케이션을 개발하고 있습니다.', '저는 뜨개질을 좋아해요.', '유튜브 보는 시간만큼 힐링되는 시간은 없을 거에요', '낙이 유튜브 시청이라 끊을 것 같진 않아요', '노래방가서 노래부르는 걸 좋아해요', '노래 한번 불르면 스트레스가 많이 풀리는 것 같아서 좋아요', '아이됴아 (AIDOA) 인공지능 팀에서 프로젝트를 하게 되었습니다.', '저는 Computer Vision에 관심이 많아요', 'Computer Vision 강의를 수강하기 시작했어요', '옛날 냄새 나는 노래를 좋아합니다', '시티팝 류를 자주 듣게 되는것 같아요', \" 'AI 됴아' 팀을 꾸리고 딥러닝을 공부하고 있습니다. \", \"저희 아이됴아 팀의 프로젝트는 '영상처리 기반의 시니어 모니터' 입니다\", '자동 신고 할 수 있는 영상처리 알고리즘을 개발한다', '알고리즘 공부도 깊이 하고싶어요', '이번학기 웹 프로젝트로 collusic(collaboration + music)이라는 프로젝트를 진행하게 되었습니다', '저는 음악을 정말 좋아합니다', '스포츠를 좋아합니다.', '웹 쪽에 관심이 많습니다.', 'AI 쪽을 한번 공부해보고 싶은 마음이 있습니다.', '개발서적 리뷰 웹 서로 프로젝트를 진행합니다', '자바와 웹쪽을 좀더 공부할 것 같습니다', '농구도 좋아합니다.', '유튜브 보기', '게임하기']\n"
     ]
    }
   ],
   "source": [
    "print(corpus1)"
   ]
  },
  {
   "cell_type": "code",
   "execution_count": 41,
   "metadata": {},
   "outputs": [],
   "source": [
    "name = df_drop_column['name'].values.tolist()"
   ]
  },
  {
   "cell_type": "code",
   "execution_count": 42,
   "metadata": {},
   "outputs": [],
   "source": [
    "name1 = [word.replace('\\xa0',' ') for word in name]"
   ]
  },
  {
   "cell_type": "code",
   "execution_count": 49,
   "metadata": {},
   "outputs": [
    {
     "name": "stdout",
     "output_type": "stream",
     "text": [
      "['김유리', '김유리', '김유리', '김유리', '김유리', '김유리', '김유리', '김유리', '김유리', '김유리', '김유리', '김유리', '김유리', '김유리', '김유리', '김유리', '임원빈', '임원빈', '임원빈', '임원빈', '임원빈', '임원빈', '탁민경', '탁민경', '탁민경', '탁민경', '탁민경', '정현석', '정현석', '정현석', '정현석', '정현석', '정현석', '정현석', '정현석', '이의종', '이의종', '이의종', '이의종', '이의종', '이의종', '이의종', '이의종', '이의종', '이의종', '이의종', '이의종', '이의종', '이의종', '이선경', '이선경', '이선경', '이선경', '이선경', '이선경', '이선경', '김동준', '김동준', '김동준', '김동준', '김동준', '김동준', '김동준', '김동준', '김동준', '김동준', '김동준', '김동준', '김동준', '김동준', '김동준', '정회형', '정회형', '정회형', '정회형', '정회형', '정회형', '정회형', '정회형', '이혁진', '이혁진', '이혁진', '이혁진', '이혁진', '이혁진', '이혁진', '이혁진', '이혁진', '이혁진', '이혁진', '송정경', '송정경', '송정경', '송정경', '송정경', '송정경', '송정경', '송정경', '송정경', '송정경', '송정경', '김정인', '김정인', '김정인', '김정인', '김정인', '김정인', '김정인', '김정인', '박현서', '박현서', '박현서', '박현서', '박현서', '박현서', '박현서', '박현서', '박현서', '이지율', '이지율', '이지율', '이지율', '이지율', '이지율', '이지율', '이지율', '이지율', '김성혁', '김성혁', '김성혁', '김성혁', '김성혁', '김성혁', '김성혁', '김성혁', '김성혁', '김성혁', '김성혁', '김성혁', '김성혁', '김송아', '김송아', '김송아', '김송아', '김송아', '김송아', '김송아', '김송아', '김송아', '김서영', '김서영', '김서영', '김서영', '김서영', '김서영', '김서영', '김서영', '김서영', '김서영', '김서영', '김서영', '김종근', '김종근', '김종근', '김종근', '김종근', '김종근', '김종근', '김종근', '김기표', '김기표', '김기표', '김기표', '김기표', '김기표', '김기표', '김기표', '김기표', '김기표', '박준수', '박준수', '배종진', '배종진', '배종진', '이상윤', '이상윤', '이상윤', '이상윤', '신재욱', '신재욱', '김양하', '김양하', '김양하', '김양하', '김양하', '김양하', '김양하', '김양하', '김양하', '김양하', '김양하', '김양하', '나영주', '나영주', '나영주', '김다애', '김다애', '김다애', '김다애', '김다애', '김다애', '김다애', '김다애', '김다애', '김다애', '한수아', '한수아', '한수아', '한수아', '한수아', '한수아', '주동혁', '주동혁', '주동혁', '주동혁', '주동혁', '주동혁', '진성호', '진성호', '진성호', '진성호', '설민우', '설민우', '설민우', '설민우', '설민우', '설민우', '설민우', '설민우', '서서영', '서서영', '송창훈', '송창훈', '송창훈', '송창훈', '나영주', '나영주', '나영주', '황지우', '황지우', '황지우', '황지우', '황지우', '김송아', '박재현', '박재현', '박재현', '김상엽', '김상엽', '김상엽', '김상엽', '김상엽', '김상엽', '김상엽']\n"
     ]
    }
   ],
   "source": [
    "print(name1)"
   ]
  },
  {
   "cell_type": "code",
   "execution_count": 78,
   "metadata": {},
   "outputs": [
    {
     "name": "stdout",
     "output_type": "stream",
     "text": [
      "느낌표로 시작하는 문장을 입력해주세요인공지능 프로젝트 같이 진행하실 분\n"
     ]
    }
   ],
   "source": [
    "query = input(\"느낌표로 시작하는 문장을 입력해주세요\")"
   ]
  },
  {
   "cell_type": "code",
   "execution_count": 79,
   "metadata": {},
   "outputs": [],
   "source": [
    "corpus_embeddings = embedder.encode(corpus1, convert_to_tensor=True)\n",
    "query_embedding = embedder.encode(query, convert_to_tensor=True)"
   ]
  },
  {
   "cell_type": "code",
   "execution_count": 80,
   "metadata": {},
   "outputs": [],
   "source": [
    "cos_scores = util.pytorch_cos_sim(query_embedding, corpus_embeddings)[0]"
   ]
  },
  {
   "cell_type": "code",
   "execution_count": 81,
   "metadata": {},
   "outputs": [
    {
     "name": "stdout",
     "output_type": "stream",
     "text": [
      "1번 일정공유 캘린더 애플리케이션 wemeet을 진행중에 있습니다 (Score: 0.8632)\n",
      "1번 주동혁 (Score: 0.8632)\n",
      "2번 자동 신고 할 수 있는 영상처리 알고리즘을 개발한다 (Score: 0.8130)\n",
      "2번 황지우 (Score: 0.8130)\n",
      "3번 아이됴아(AIDOA) 인공지능 팀에서 프로젝트를 하고 있습니다. (Score: 0.8067)\n",
      "3번 나영주 (Score: 0.8067)\n",
      "4번 앱도 공부해 보고 싶어요 (Score: 0.8065)\n",
      "4번 김송아 (Score: 0.8065)\n",
      "5번 아이됴아 (AIDOA) 인공지능 팀에서 프로젝트를 하게 되었습니다. (Score: 0.8013)\n",
      "5번 나영주 (Score: 0.8013)\n"
     ]
    }
   ],
   "source": [
    "top_k = 5\n",
    "top_results = np.argpartition(-cos_scores, range(top_k))\n",
    "\n",
    "for i, idx in enumerate(top_results[0:top_k]):\n",
    "    print(str(i+1)+\"번 \"+corpus1[idx].strip(), \"(Score: %.4f)\" % (cos_scores[idx]))\n",
    "    print(str(i+1)+\"번 \"+name1[idx].strip(), \"(Score: %.4f)\" % (cos_scores[idx]))"
   ]
  },
  {
   "cell_type": "code",
   "execution_count": 90,
   "metadata": {},
   "outputs": [
    {
     "name": "stdout",
     "output_type": "stream",
     "text": [
      "느낌표로 시작하는 문장을 입력해주세요영화 보실 분 있나요\n"
     ]
    }
   ],
   "source": [
    "query = input(\"느낌표로 시작하는 문장을 입력해주세요\")"
   ]
  },
  {
   "cell_type": "code",
   "execution_count": 91,
   "metadata": {},
   "outputs": [],
   "source": [
    "corpus_embeddings = embedder.encode(corpus1, convert_to_tensor=True)\n",
    "query_embedding = embedder.encode(query, convert_to_tensor=True)"
   ]
  },
  {
   "cell_type": "code",
   "execution_count": 92,
   "metadata": {},
   "outputs": [],
   "source": [
    "cos_scores = util.pytorch_cos_sim(query_embedding, corpus_embeddings)[0]"
   ]
  },
  {
   "cell_type": "code",
   "execution_count": 93,
   "metadata": {},
   "outputs": [
    {
     "name": "stdout",
     "output_type": "stream",
     "text": [
      "1번 영화보는 것을 좋아합니다. (Score: 0.6292)\n",
      "1번 김양하 (Score: 0.6292)\n",
      "2번 영화관 가서 영화보는 것도 굉장히 좋아합니다. (Score: 0.6118)\n",
      "2번 김송아 (Score: 0.6118)\n",
      "3번 영화관에 가서 영화를 보면 시각과 청각이 한 곳으로 집중되는 느낌이 좋아요 (Score: 0.5923)\n",
      "3번 김양하 (Score: 0.5923)\n",
      "4번 넷플릭스에 있는 미드를 주로 보는데요. (Score: 0.5767)\n",
      "4번 김동준 (Score: 0.5767)\n",
      "5번 요즘엔 가끔씩 넷플릭스로 보는 중입니다. (Score: 0.5604)\n",
      "5번 김서영 (Score: 0.5604)\n"
     ]
    }
   ],
   "source": [
    "top_k = 5\n",
    "top_results = np.argpartition(-cos_scores, range(top_k))\n",
    "\n",
    "for i, idx in enumerate(top_results[0:top_k]):\n",
    "    print(str(i+1)+\"번 \"+corpus1[idx].strip(), \"(Score: %.4f)\" % (cos_scores[idx]))\n",
    "    print(str(i+1)+\"번 \"+name1[idx].strip(), \"(Score: %.4f)\" % (cos_scores[idx]))"
   ]
  },
  {
   "cell_type": "code",
   "execution_count": 106,
   "metadata": {},
   "outputs": [
    {
     "name": "stdout",
     "output_type": "stream",
     "text": [
      "느낌표로 시작하는 문장을 입력해주세요고양이\n"
     ]
    }
   ],
   "source": [
    "query = input(\"느낌표로 시작하는 문장을 입력해주세요\")"
   ]
  },
  {
   "cell_type": "code",
   "execution_count": 107,
   "metadata": {},
   "outputs": [],
   "source": [
    "corpus_embeddings = embedder.encode(corpus1, convert_to_tensor=True)\n",
    "query_embedding = embedder.encode(query, convert_to_tensor=True)"
   ]
  },
  {
   "cell_type": "code",
   "execution_count": 108,
   "metadata": {},
   "outputs": [],
   "source": [
    "cos_scores = util.pytorch_cos_sim(query_embedding, corpus_embeddings)[0]"
   ]
  },
  {
   "cell_type": "code",
   "execution_count": 109,
   "metadata": {},
   "outputs": [
    {
     "name": "stdout",
     "output_type": "stream",
     "text": [
      "1번 하루를 마치고 집에 들어오면 고양이 집사가 됩니다. (Score: 0.5228)\n",
      "1번 박현서 (Score: 0.5228)\n",
      "2번 주인님 이름은 수박이고, 코리안 숏컷 고양이입니다. (Score: 0.4389)\n",
      "2번 박현서 (Score: 0.4389)\n",
      "3번 게임하기 (Score: 0.3076)\n",
      "3번 김상엽 (Score: 0.3076)\n",
      "4번 저의 인생 드라마는 영국드라마 doctor who (Score: 0.2803)\n",
      "4번 김서영 (Score: 0.2803)\n",
      "5번 당구장 좋아합니다.. (Score: 0.2747)\n",
      "5번 이의종 (Score: 0.2747)\n"
     ]
    }
   ],
   "source": [
    "top_k = 5\n",
    "top_results = np.argpartition(-cos_scores, range(top_k))\n",
    "\n",
    "for i, idx in enumerate(top_results[0:top_k]):\n",
    "    print(str(i+1)+\"번 \"+corpus1[idx].strip(), \"(Score: %.4f)\" % (cos_scores[idx]))\n",
    "    print(str(i+1)+\"번 \"+name1[idx].strip(), \"(Score: %.4f)\" % (cos_scores[idx]))"
   ]
  },
  {
   "cell_type": "code",
   "execution_count": 114,
   "metadata": {},
   "outputs": [
    {
     "name": "stdout",
     "output_type": "stream",
     "text": [
      "느낌표로 시작하는 문장을 입력해주세요애플리케이션 프로젝트 같이 하실 분\n"
     ]
    }
   ],
   "source": [
    "query = input(\"느낌표로 시작하는 문장을 입력해주세요\")"
   ]
  },
  {
   "cell_type": "code",
   "execution_count": 115,
   "metadata": {},
   "outputs": [],
   "source": [
    "corpus_embeddings = embedder.encode(corpus1, convert_to_tensor=True)\n",
    "query_embedding = embedder.encode(query, convert_to_tensor=True)"
   ]
  },
  {
   "cell_type": "code",
   "execution_count": 116,
   "metadata": {},
   "outputs": [],
   "source": [
    "cos_scores = util.pytorch_cos_sim(query_embedding, corpus_embeddings)[0]"
   ]
  },
  {
   "cell_type": "code",
   "execution_count": 117,
   "metadata": {},
   "outputs": [
    {
     "name": "stdout",
     "output_type": "stream",
     "text": [
      "1번 앱 개발 동아리에 관심이 있습니다 (Score: 0.8257)\n",
      "1번 송정경 (Score: 0.8257)\n",
      "2번 앱도 공부해 보고 싶어요 (Score: 0.8112)\n",
      "2번 김송아 (Score: 0.8112)\n",
      "3번 일정공유 캘린더 애플리케이션 wemeet을 진행중에 있습니다 (Score: 0.7984)\n",
      "3번 주동혁 (Score: 0.7984)\n",
      "4번 개발자 동기부여 플랫폼을 개발하고 있습니다 (Score: 0.7898)\n",
      "4번 김기표 (Score: 0.7898)\n",
      "5번 위밋(We meet)이라는 캘린더 애플리케이션을 개발하고 있습니다. (Score: 0.7797)\n",
      "5번 서서영 (Score: 0.7797)\n"
     ]
    }
   ],
   "source": [
    "top_k = 5\n",
    "top_results = np.argpartition(-cos_scores, range(top_k))\n",
    "\n",
    "for i, idx in enumerate(top_results[0:top_k]):\n",
    "    print(str(i+1)+\"번 \"+corpus1[idx].strip(), \"(Score: %.4f)\" % (cos_scores[idx]))\n",
    "    print(str(i+1)+\"번 \"+name1[idx].strip(), \"(Score: %.4f)\" % (cos_scores[idx]))"
   ]
  },
  {
   "cell_type": "code",
   "execution_count": 118,
   "metadata": {},
   "outputs": [
    {
     "name": "stderr",
     "output_type": "stream",
     "text": [
      "100%|█████████████████████████████████████████████████████████████████████████████| 1.31G/1.31G [16:40<00:00, 1.31MB/s]\n"
     ]
    }
   ],
   "source": [
    "embedder = SentenceTransformer('stsb-roberta-large')"
   ]
  },
  {
   "cell_type": "code",
   "execution_count": 119,
   "metadata": {},
   "outputs": [
    {
     "name": "stdout",
     "output_type": "stream",
     "text": [
      "느낌표로 시작하는 문장을 입력해주세요고양이\n"
     ]
    }
   ],
   "source": [
    "query = input(\"느낌표로 시작하는 문장을 입력해주세요\")"
   ]
  },
  {
   "cell_type": "code",
   "execution_count": 120,
   "metadata": {},
   "outputs": [],
   "source": [
    "corpus_embeddings = embedder.encode(corpus1, convert_to_tensor=True)\n",
    "query_embedding = embedder.encode(query, convert_to_tensor=True)"
   ]
  },
  {
   "cell_type": "code",
   "execution_count": 121,
   "metadata": {},
   "outputs": [],
   "source": [
    "cos_scores = util.pytorch_cos_sim(query_embedding, corpus_embeddings)[0]"
   ]
  },
  {
   "cell_type": "code",
   "execution_count": 122,
   "metadata": {},
   "outputs": [
    {
     "name": "stdout",
     "output_type": "stream",
     "text": [
      "1번 앱도 공부해 보고 싶어요 (Score: 0.8275)\n",
      "1번 김송아 (Score: 0.8275)\n",
      "2번 저는 여행가는 것을 정말 좋아해요. (Score: 0.8044)\n",
      "2번 김성혁 (Score: 0.8044)\n",
      "3번 여행을 통해 새로운 환경을 구경하고 함께 간 사람들과 추억을 쌓는게 정말 좋은 것 같아요 (Score: 0.8028)\n",
      "3번 송정경 (Score: 0.8028)\n",
      "4번 해외 여행으로는 홍콩을 혼자 가봤어요 (Score: 0.8014)\n",
      "4번 김정인 (Score: 0.8014)\n",
      "5번 가고싶은 여행지들을 가고싶네요 (Score: 0.8001)\n",
      "5번 김송아 (Score: 0.8001)\n"
     ]
    }
   ],
   "source": [
    "top_k = 5\n",
    "top_results = np.argpartition(-cos_scores, range(top_k))\n",
    "\n",
    "for i, idx in enumerate(top_results[0:top_k]):\n",
    "    print(str(i+1)+\"번 \"+corpus1[idx].strip(), \"(Score: %.4f)\" % (cos_scores[idx]))\n",
    "    print(str(i+1)+\"번 \"+name1[idx].strip(), \"(Score: %.4f)\" % (cos_scores[idx]))"
   ]
  },
  {
   "cell_type": "code",
   "execution_count": 133,
   "metadata": {},
   "outputs": [
    {
     "name": "stdout",
     "output_type": "stream",
     "text": [
      "느낌표로 시작하는 문장을 입력해주세요인공지능\n"
     ]
    }
   ],
   "source": [
    "query = input(\"느낌표로 시작하는 문장을 입력해주세요\")"
   ]
  },
  {
   "cell_type": "code",
   "execution_count": 134,
   "metadata": {},
   "outputs": [],
   "source": [
    "query_embedding = embedder.encode(query, convert_to_tensor=True)"
   ]
  },
  {
   "cell_type": "code",
   "execution_count": 135,
   "metadata": {},
   "outputs": [],
   "source": [
    "cos_scores = util.pytorch_cos_sim(query_embedding, corpus_embeddings)[0]"
   ]
  },
  {
   "cell_type": "code",
   "execution_count": 136,
   "metadata": {},
   "outputs": [
    {
     "name": "stdout",
     "output_type": "stream",
     "text": [
      "1번 인스타에 일본 친구들이 한국 친구들보다 더 많습니다. (Score: 0.8976)\n",
      "1번 이선경 (Score: 0.8976)\n",
      "2번 영화보는 것을 좋아합니다. (Score: 0.8839)\n",
      "2번 김양하 (Score: 0.8839)\n",
      "3번 유니티에 대해 더욱 더 많이 공부 할거에요. (Score: 0.8777)\n",
      "3번 이지율 (Score: 0.8777)\n",
      "4번 국내 힙합을 주로 다양하게 듣습니다. (Score: 0.8708)\n",
      "4번 송정경 (Score: 0.8708)\n",
      "5번 같이하는 보드게임을 좋아합니다. (Score: 0.8704)\n",
      "5번 김기표 (Score: 0.8704)\n"
     ]
    }
   ],
   "source": [
    "top_k = 5\n",
    "top_results = np.argpartition(-cos_scores, range(top_k))\n",
    "\n",
    "for i, idx in enumerate(top_results[0:top_k]):\n",
    "    print(str(i+1)+\"번 \"+corpus1[idx].strip(), \"(Score: %.4f)\" % (cos_scores[idx]))\n",
    "    print(str(i+1)+\"번 \"+name1[idx].strip(), \"(Score: %.4f)\" % (cos_scores[idx]))"
   ]
  },
  {
   "cell_type": "code",
   "execution_count": 137,
   "metadata": {},
   "outputs": [
    {
     "name": "stderr",
     "output_type": "stream",
     "text": [
      "100%|█████████████████████████████████████████████████████████████████████████████| 1.01G/1.01G [13:43<00:00, 1.23MB/s]\n"
     ]
    }
   ],
   "source": [
    "embedder = SentenceTransformer('paraphrase-xlm-r-multilingual-v1')"
   ]
  },
  {
   "cell_type": "code",
   "execution_count": 142,
   "metadata": {},
   "outputs": [
    {
     "name": "stdout",
     "output_type": "stream",
     "text": [
      "느낌표로 시작하는 문장을 입력해주세요고양이 키우는 사람\n"
     ]
    }
   ],
   "source": [
    "query = input(\"느낌표로 시작하는 문장을 입력해주세요\")"
   ]
  },
  {
   "cell_type": "code",
   "execution_count": 143,
   "metadata": {},
   "outputs": [],
   "source": [
    "corpus_embeddings = embedder.encode(corpus1, convert_to_tensor=True)\n",
    "query_embedding = embedder.encode(query, convert_to_tensor=True)"
   ]
  },
  {
   "cell_type": "code",
   "execution_count": 144,
   "metadata": {},
   "outputs": [],
   "source": [
    "cos_scores = util.pytorch_cos_sim(query_embedding, corpus_embeddings)[0]"
   ]
  },
  {
   "cell_type": "code",
   "execution_count": 145,
   "metadata": {},
   "outputs": [
    {
     "name": "stdout",
     "output_type": "stream",
     "text": [
      "1번 주인님 이름은 수박이고, 코리안 숏컷 고양이입니다. (Score: 0.6634)\n",
      "1번 박현서 (Score: 0.6634)\n",
      "2번 하루를 마치고 집에 들어오면 고양이 집사가 됩니다. (Score: 0.5758)\n",
      "2번 박현서 (Score: 0.5758)\n",
      "3번 게임하기 (Score: 0.4913)\n",
      "3번 김상엽 (Score: 0.4913)\n",
      "4번 당구장 좋아합니다.. (Score: 0.3917)\n",
      "4번 이의종 (Score: 0.3917)\n",
      "5번 포켓몬스터 치코리타라는 캐릭터를 좋아합니다. (Score: 0.3613)\n",
      "5번 이선경 (Score: 0.3613)\n"
     ]
    }
   ],
   "source": [
    "top_k = 5\n",
    "top_results = np.argpartition(-cos_scores, range(top_k))\n",
    "\n",
    "for i, idx in enumerate(top_results[0:top_k]):\n",
    "    print(str(i+1)+\"번 \"+corpus1[idx].strip(), \"(Score: %.4f)\" % (cos_scores[idx]))\n",
    "    print(str(i+1)+\"번 \"+name1[idx].strip(), \"(Score: %.4f)\" % (cos_scores[idx]))"
   ]
  },
  {
   "cell_type": "code",
   "execution_count": 146,
   "metadata": {},
   "outputs": [
    {
     "name": "stdout",
     "output_type": "stream",
     "text": [
      "느낌표로 시작하는 문장을 입력해주세요영화 같이 보실 분\n"
     ]
    }
   ],
   "source": [
    "query = input(\"느낌표로 시작하는 문장을 입력해주세요\")"
   ]
  },
  {
   "cell_type": "code",
   "execution_count": 147,
   "metadata": {},
   "outputs": [],
   "source": [
    "query_embedding = embedder.encode(query, convert_to_tensor=True)"
   ]
  },
  {
   "cell_type": "code",
   "execution_count": 149,
   "metadata": {},
   "outputs": [],
   "source": [
    "cos_scores = util.pytorch_cos_sim(query_embedding, corpus_embeddings)[0]"
   ]
  },
  {
   "cell_type": "code",
   "execution_count": 150,
   "metadata": {},
   "outputs": [
    {
     "name": "stdout",
     "output_type": "stream",
     "text": [
      "1번 영화관에 가서 영화를 보면 시각과 청각이 한 곳으로 집중되는 느낌이 좋아요 (Score: 0.6832)\n",
      "1번 김양하 (Score: 0.6832)\n",
      "2번 영화보는 것을 좋아합니다. (Score: 0.6804)\n",
      "2번 김양하 (Score: 0.6804)\n",
      "3번 영화관 가서 영화보는 것도 굉장히 좋아합니다. (Score: 0.6718)\n",
      "3번 김송아 (Score: 0.6718)\n",
      "4번 뮤지컬 영화도 좋아해요 (Score: 0.6067)\n",
      "4번 김동준 (Score: 0.6067)\n",
      "5번 다양한 영화를 좋아하지만, 디즈니, 픽사 영화를 정말 좋아합니다 (Score: 0.5708)\n",
      "5번 김동준 (Score: 0.5708)\n"
     ]
    }
   ],
   "source": [
    "top_k = 5\n",
    "top_results = np.argpartition(-cos_scores, range(top_k))\n",
    "\n",
    "for i, idx in enumerate(top_results[0:top_k]):\n",
    "    print(str(i+1)+\"번 \"+corpus1[idx].strip(), \"(Score: %.4f)\" % (cos_scores[idx]))\n",
    "    print(str(i+1)+\"번 \"+name1[idx].strip(), \"(Score: %.4f)\" % (cos_scores[idx]))"
   ]
  },
  {
   "cell_type": "code",
   "execution_count": 151,
   "metadata": {},
   "outputs": [
    {
     "name": "stdout",
     "output_type": "stream",
     "text": [
      "느낌표로 시작하는 문장을 입력해주세요인공지능 프로젝트 같이 진행하실 분\n"
     ]
    }
   ],
   "source": [
    "query = input(\"느낌표로 시작하는 문장을 입력해주세요\")"
   ]
  },
  {
   "cell_type": "code",
   "execution_count": 152,
   "metadata": {},
   "outputs": [],
   "source": [
    "query_embedding = embedder.encode(query, convert_to_tensor=True)"
   ]
  },
  {
   "cell_type": "code",
   "execution_count": 153,
   "metadata": {},
   "outputs": [],
   "source": [
    "cos_scores = util.pytorch_cos_sim(query_embedding, corpus_embeddings)[0]"
   ]
  },
  {
   "cell_type": "code",
   "execution_count": 154,
   "metadata": {},
   "outputs": [
    {
     "name": "stdout",
     "output_type": "stream",
     "text": [
      "1번 아이됴아(AIDOA) 인공지능 팀에서 프로젝트를 하고 있습니다. (Score: 0.8002)\n",
      "1번 나영주 (Score: 0.8002)\n",
      "2번 아이됴아 (AIDOA) 인공지능 팀에서 프로젝트를 하게 되었습니다. (Score: 0.7874)\n",
      "2번 나영주 (Score: 0.7874)\n",
      "3번 'AI 됴아' 팀을 꾸리고 딥러닝을 공부하고 있습니다. (Score: 0.6748)\n",
      "3번 황지우 (Score: 0.6748)\n",
      "4번 AI 쪽을 한번 공부해보고 싶은 마음이 있습니다. (Score: 0.6588)\n",
      "4번 김상엽 (Score: 0.6588)\n",
      "5번 프로젝트에서 프론트 엔드를 담당하고 있습니다 (Score: 0.5930)\n",
      "5번 김기표 (Score: 0.5930)\n"
     ]
    }
   ],
   "source": [
    "top_k = 5\n",
    "top_results = np.argpartition(-cos_scores, range(top_k))\n",
    "\n",
    "for i, idx in enumerate(top_results[0:top_k]):\n",
    "    print(str(i+1)+\"번 \"+corpus1[idx].strip(), \"(Score: %.4f)\" % (cos_scores[idx]))\n",
    "    print(str(i+1)+\"번 \"+name1[idx].strip(), \"(Score: %.4f)\" % (cos_scores[idx]))"
   ]
  },
  {
   "cell_type": "code",
   "execution_count": 155,
   "metadata": {},
   "outputs": [
    {
     "name": "stdout",
     "output_type": "stream",
     "text": [
      "느낌표로 시작하는 문장을 입력해주세요웹 프로젝트 같이 진행하실 분\n"
     ]
    }
   ],
   "source": [
    "query = input(\"느낌표로 시작하는 문장을 입력해주세요\")"
   ]
  },
  {
   "cell_type": "code",
   "execution_count": 156,
   "metadata": {},
   "outputs": [],
   "source": [
    "query_embedding = embedder.encode(query, convert_to_tensor=True)"
   ]
  },
  {
   "cell_type": "code",
   "execution_count": 157,
   "metadata": {},
   "outputs": [],
   "source": [
    "cos_scores = util.pytorch_cos_sim(query_embedding, corpus_embeddings)[0]"
   ]
  },
  {
   "cell_type": "code",
   "execution_count": 158,
   "metadata": {},
   "outputs": [
    {
     "name": "stdout",
     "output_type": "stream",
     "text": [
      "1번 자기 계발 동기부여 웹 서비스 \"으쌰으쌰\" 프로젝트를 진행 중입니다 (Score: 0.7960)\n",
      "1번 김종근 (Score: 0.7960)\n",
      "2번 webper (웹 페이지 스크랩 사이트) 프로젝트에서 서버 개발을 담당하고 있구요 (Score: 0.7213)\n",
      "2번 배종진 (Score: 0.7213)\n",
      "3번 개발서적 리뷰 웹 서로 프로젝트를 진행합니다 (Score: 0.6839)\n",
      "3번 김상엽 (Score: 0.6839)\n",
      "4번 웹 쪽에 관심이 많습니다. (Score: 0.6618)\n",
      "4번 김상엽 (Score: 0.6618)\n",
      "5번 간단한 정보와 함께 그 링크를 저장하는 웹어플리케이션 서비스를 개발하는 프로젝트를 하고 있습니다. (Score: 0.6456)\n",
      "5번 김서영 (Score: 0.6456)\n"
     ]
    }
   ],
   "source": [
    "top_k = 5\n",
    "top_results = np.argpartition(-cos_scores, range(top_k))\n",
    "\n",
    "for i, idx in enumerate(top_results[0:top_k]):\n",
    "    print(str(i+1)+\"번 \"+corpus1[idx].strip(), \"(Score: %.4f)\" % (cos_scores[idx]))\n",
    "    print(str(i+1)+\"번 \"+name1[idx].strip(), \"(Score: %.4f)\" % (cos_scores[idx]))"
   ]
  },
  {
   "cell_type": "code",
   "execution_count": 159,
   "metadata": {},
   "outputs": [
    {
     "name": "stderr",
     "output_type": "stream",
     "text": [
      "100%|█████████████████████████████████████████████████████████████████████████████| 1.01G/1.01G [12:09<00:00, 1.39MB/s]\n"
     ]
    }
   ],
   "source": [
    "embedder = SentenceTransformer('stsb-xlm-r-multilingual')"
   ]
  },
  {
   "cell_type": "code",
   "execution_count": 160,
   "metadata": {},
   "outputs": [
    {
     "name": "stdout",
     "output_type": "stream",
     "text": [
      "느낌표로 시작하는 문장을 입력해주세요고양이 키우는 사람\n"
     ]
    }
   ],
   "source": [
    "query = input(\"느낌표로 시작하는 문장을 입력해주세요\")"
   ]
  },
  {
   "cell_type": "code",
   "execution_count": 161,
   "metadata": {},
   "outputs": [],
   "source": [
    "corpus_embeddings = embedder.encode(corpus1, convert_to_tensor=True)\n",
    "query_embedding = embedder.encode(query, convert_to_tensor=True)"
   ]
  },
  {
   "cell_type": "code",
   "execution_count": 162,
   "metadata": {},
   "outputs": [],
   "source": [
    "cos_scores = util.pytorch_cos_sim(query_embedding, corpus_embeddings)[0]"
   ]
  },
  {
   "cell_type": "code",
   "execution_count": 163,
   "metadata": {},
   "outputs": [
    {
     "name": "stdout",
     "output_type": "stream",
     "text": [
      "1번 하루를 마치고 집에 들어오면 고양이 집사가 됩니다. (Score: 0.5373)\n",
      "1번 박현서 (Score: 0.5373)\n",
      "2번 주인님 이름은 수박이고, 코리안 숏컷 고양이입니다. (Score: 0.4954)\n",
      "2번 박현서 (Score: 0.4954)\n",
      "3번 데이식스 공연만 5번 다녀왔는데 (Score: 0.3832)\n",
      "3번 김서영 (Score: 0.3832)\n",
      "4번 당구장 좋아합니다.. (Score: 0.3756)\n",
      "4번 이의종 (Score: 0.3756)\n",
      "5번 시티팝 류를 자주 듣게 되는것 같아요 (Score: 0.3728)\n",
      "5번 황지우 (Score: 0.3728)\n"
     ]
    }
   ],
   "source": [
    "top_k = 5\n",
    "top_results = np.argpartition(-cos_scores, range(top_k))\n",
    "\n",
    "for i, idx in enumerate(top_results[0:top_k]):\n",
    "    print(str(i+1)+\"번 \"+corpus1[idx].strip(), \"(Score: %.4f)\" % (cos_scores[idx]))\n",
    "    print(str(i+1)+\"번 \"+name1[idx].strip(), \"(Score: %.4f)\" % (cos_scores[idx]))"
   ]
  },
  {
   "cell_type": "code",
   "execution_count": 164,
   "metadata": {},
   "outputs": [
    {
     "name": "stdout",
     "output_type": "stream",
     "text": [
      "느낌표로 시작하는 문장을 입력해주세요웹 프로젝트 같이 진행하실 분\n"
     ]
    }
   ],
   "source": [
    "query = input(\"느낌표로 시작하는 문장을 입력해주세요\")"
   ]
  },
  {
   "cell_type": "code",
   "execution_count": 165,
   "metadata": {},
   "outputs": [],
   "source": [
    "query_embedding = embedder.encode(query, convert_to_tensor=True)"
   ]
  },
  {
   "cell_type": "code",
   "execution_count": 166,
   "metadata": {},
   "outputs": [],
   "source": [
    "cos_scores = util.pytorch_cos_sim(query_embedding, corpus_embeddings)[0]"
   ]
  },
  {
   "cell_type": "code",
   "execution_count": 167,
   "metadata": {},
   "outputs": [
    {
     "name": "stdout",
     "output_type": "stream",
     "text": [
      "1번 자기 계발 동기부여 웹 서비스 \"으쌰으쌰\" 프로젝트를 진행 중입니다 (Score: 0.8229)\n",
      "1번 김종근 (Score: 0.8229)\n",
      "2번 웹팀 소속으로 collusic 이라는 사이트를 만들고 있어요 (Score: 0.8077)\n",
      "2번 김다애 (Score: 0.8077)\n",
      "3번 개발서적 리뷰 웹 서로 프로젝트를 진행합니다 (Score: 0.8016)\n",
      "3번 김상엽 (Score: 0.8016)\n",
      "4번 인스타그램 클론코딩을 진행합니다 (Score: 0.7935)\n",
      "4번 탁민경 (Score: 0.7935)\n",
      "5번 간단한 정보와 함께 그 링크를 저장하는 웹어플리케이션 서비스를 개발하는 프로젝트를 하고 있습니다. (Score: 0.7894)\n",
      "5번 김서영 (Score: 0.7894)\n"
     ]
    }
   ],
   "source": [
    "top_k = 5\n",
    "top_results = np.argpartition(-cos_scores, range(top_k))\n",
    "\n",
    "for i, idx in enumerate(top_results[0:top_k]):\n",
    "    print(str(i+1)+\"번 \"+corpus1[idx].strip(), \"(Score: %.4f)\" % (cos_scores[idx]))\n",
    "    print(str(i+1)+\"번 \"+name1[idx].strip(), \"(Score: %.4f)\" % (cos_scores[idx]))"
   ]
  },
  {
   "cell_type": "code",
   "execution_count": 184,
   "metadata": {},
   "outputs": [
    {
     "name": "stdout",
     "output_type": "stream",
     "text": [
      "느낌표로 시작하는 문장을 입력해주세요노래 추천해주실 분\n"
     ]
    }
   ],
   "source": [
    "query = input(\"느낌표로 시작하는 문장을 입력해주세요\")"
   ]
  },
  {
   "cell_type": "code",
   "execution_count": 185,
   "metadata": {},
   "outputs": [],
   "source": [
    "query_embedding = embedder.encode(query, convert_to_tensor=True)"
   ]
  },
  {
   "cell_type": "code",
   "execution_count": 186,
   "metadata": {},
   "outputs": [],
   "source": [
    "cos_scores = util.pytorch_cos_sim(query_embedding, corpus_embeddings)[0]"
   ]
  },
  {
   "cell_type": "code",
   "execution_count": 187,
   "metadata": {},
   "outputs": [
    {
     "name": "stdout",
     "output_type": "stream",
     "text": [
      "1번 노래를 찾아서 들어요 (Score: 0.9081)\n",
      "1번 김기표 (Score: 0.9081)\n",
      "2번 시티팝 류를 자주 듣게 되는것 같아요 (Score: 0.8079)\n",
      "2번 황지우 (Score: 0.8079)\n",
      "3번 OST도 좋아해요 (Score: 0.8032)\n",
      "3번 김동준 (Score: 0.8032)\n",
      "4번 데이식스 공연만 5번 다녀왔는데 (Score: 0.7944)\n",
      "4번 김서영 (Score: 0.7944)\n",
      "5번 에코노 회원님들과 야구장가고 싶어요 (Score: 0.7783)\n",
      "5번 김종근 (Score: 0.7783)\n"
     ]
    }
   ],
   "source": [
    "top_k = 5\n",
    "top_results = np.argpartition(-cos_scores, range(top_k))\n",
    "\n",
    "for i, idx in enumerate(top_results[0:top_k]):\n",
    "    print(str(i+1)+\"번 \"+corpus1[idx].strip(), \"(Score: %.4f)\" % (cos_scores[idx]))\n",
    "    print(str(i+1)+\"번 \"+name1[idx].strip(), \"(Score: %.4f)\" % (cos_scores[idx]))"
   ]
  },
  {
   "cell_type": "code",
   "execution_count": 195,
   "metadata": {},
   "outputs": [],
   "source": [
    "embedder = SentenceTransformer('distiluse-base-multilingual-cased-v2')"
   ]
  },
  {
   "cell_type": "code",
   "execution_count": 196,
   "metadata": {},
   "outputs": [
    {
     "name": "stdout",
     "output_type": "stream",
     "text": [
      "느낌표로 시작하는 문장을 입력해주세요노래 추천해주실 분\n"
     ]
    }
   ],
   "source": [
    "query = input(\"느낌표로 시작하는 문장을 입력해주세요\")"
   ]
  },
  {
   "cell_type": "code",
   "execution_count": 197,
   "metadata": {},
   "outputs": [],
   "source": [
    "corpus_embeddings = embedder.encode(corpus1, convert_to_tensor=True)\n",
    "query_embedding = embedder.encode(query, convert_to_tensor=True)"
   ]
  },
  {
   "cell_type": "code",
   "execution_count": 198,
   "metadata": {},
   "outputs": [],
   "source": [
    "cos_scores = util.pytorch_cos_sim(query_embedding, corpus_embeddings)[0]"
   ]
  },
  {
   "cell_type": "code",
   "execution_count": 199,
   "metadata": {},
   "outputs": [
    {
     "name": "stdout",
     "output_type": "stream",
     "text": [
      "1번 노래를 찾아서 들어요 (Score: 0.6801)\n",
      "1번 김기표 (Score: 0.6801)\n",
      "2번 노래방 좋아합니다. (Score: 0.6414)\n",
      "2번 이의종 (Score: 0.6414)\n",
      "3번 노래를 듣는 것도을 좋아합니다. (Score: 0.6338)\n",
      "3번 김서영 (Score: 0.6338)\n",
      "4번 노래는 신나는 노래 좋아해요. (Score: 0.6329)\n",
      "4번 이지율 (Score: 0.6329)\n",
      "5번 노래방가서 노래부르는 걸 좋아해요 (Score: 0.6020)\n",
      "5번 송창훈 (Score: 0.6020)\n"
     ]
    }
   ],
   "source": [
    "top_k = 5\n",
    "top_results = np.argpartition(-cos_scores, range(top_k))\n",
    "\n",
    "for i, idx in enumerate(top_results[0:top_k]):\n",
    "    print(str(i+1)+\"번 \"+corpus1[idx].strip(), \"(Score: %.4f)\" % (cos_scores[idx]))\n",
    "    print(str(i+1)+\"번 \"+name1[idx].strip(), \"(Score: %.4f)\" % (cos_scores[idx]))"
   ]
  },
  {
   "cell_type": "code",
   "execution_count": 200,
   "metadata": {},
   "outputs": [
    {
     "name": "stdout",
     "output_type": "stream",
     "text": [
      "느낌표로 시작하는 문장을 입력해주세요고양이 키우는 사람\n"
     ]
    }
   ],
   "source": [
    "query = input(\"느낌표로 시작하는 문장을 입력해주세요\")"
   ]
  },
  {
   "cell_type": "code",
   "execution_count": 201,
   "metadata": {},
   "outputs": [],
   "source": [
    "query_embedding = embedder.encode(query, convert_to_tensor=True)"
   ]
  },
  {
   "cell_type": "code",
   "execution_count": 202,
   "metadata": {},
   "outputs": [],
   "source": [
    "cos_scores = util.pytorch_cos_sim(query_embedding, corpus_embeddings)[0]"
   ]
  },
  {
   "cell_type": "code",
   "execution_count": 203,
   "metadata": {},
   "outputs": [
    {
     "name": "stdout",
     "output_type": "stream",
     "text": [
      "1번 하루를 마치고 집에 들어오면 고양이 집사가 됩니다. (Score: 0.6059)\n",
      "1번 박현서 (Score: 0.6059)\n",
      "2번 주인님 이름은 수박이고, 코리안 숏컷 고양이입니다. (Score: 0.6004)\n",
      "2번 박현서 (Score: 0.6004)\n",
      "3번 카페 좋아합니다. (Score: 0.2803)\n",
      "3번 이의종 (Score: 0.2803)\n",
      "4번 풋살도 좋아합니다. (Score: 0.2712)\n",
      "4번 김종근 (Score: 0.2712)\n",
      "5번 포켓몬스터 치코리타라는 캐릭터를 좋아합니다. (Score: 0.2661)\n",
      "5번 이선경 (Score: 0.2661)\n"
     ]
    }
   ],
   "source": [
    "top_k = 5\n",
    "top_results = np.argpartition(-cos_scores, range(top_k))\n",
    "\n",
    "for i, idx in enumerate(top_results[0:top_k]):\n",
    "    print(str(i+1)+\"번 \"+corpus1[idx].strip(), \"(Score: %.4f)\" % (cos_scores[idx]))\n",
    "    print(str(i+1)+\"번 \"+name1[idx].strip(), \"(Score: %.4f)\" % (cos_scores[idx]))"
   ]
  },
  {
   "cell_type": "code",
   "execution_count": 204,
   "metadata": {},
   "outputs": [
    {
     "name": "stdout",
     "output_type": "stream",
     "text": [
      "느낌표로 시작하는 문장을 입력해주세요앱 프로젝트 같이 진행하실 분\n"
     ]
    }
   ],
   "source": [
    "query = input(\"느낌표로 시작하는 문장을 입력해주세요\")"
   ]
  },
  {
   "cell_type": "code",
   "execution_count": 205,
   "metadata": {},
   "outputs": [],
   "source": [
    "query_embedding = embedder.encode(query, convert_to_tensor=True)"
   ]
  },
  {
   "cell_type": "code",
   "execution_count": 206,
   "metadata": {},
   "outputs": [],
   "source": [
    "cos_scores = util.pytorch_cos_sim(query_embedding, corpus_embeddings)[0]"
   ]
  },
  {
   "cell_type": "code",
   "execution_count": 207,
   "metadata": {},
   "outputs": [
    {
     "name": "stdout",
     "output_type": "stream",
     "text": [
      "1번 앱 개발 동아리에 관심이 있습니다 (Score: 0.6438)\n",
      "1번 송정경 (Score: 0.6438)\n",
      "2번 이번 학기 19기 류현지, 이의종님과 모바일 앱 프로젝트를 맡게 되었어요. (Score: 0.5470)\n",
      "2번 김성혁 (Score: 0.5470)\n",
      "3번 앱도 공부해 보고 싶어요 (Score: 0.5451)\n",
      "3번 김송아 (Score: 0.5451)\n",
      "4번 프로젝트에서 프론트 엔드를 담당하고 있습니다 (Score: 0.5223)\n",
      "4번 김기표 (Score: 0.5223)\n",
      "5번 모바일 앱팀에 들어가서 안드로이드 프로그래밍에 대해서 배우고 있는 중입니다. (Score: 0.4897)\n",
      "5번 이의종 (Score: 0.4897)\n"
     ]
    }
   ],
   "source": [
    "top_k = 5\n",
    "top_results = np.argpartition(-cos_scores, range(top_k))\n",
    "\n",
    "for i, idx in enumerate(top_results[0:top_k]):\n",
    "    print(str(i+1)+\"번 \"+corpus1[idx].strip(), \"(Score: %.4f)\" % (cos_scores[idx]))\n",
    "    print(str(i+1)+\"번 \"+name1[idx].strip(), \"(Score: %.4f)\" % (cos_scores[idx]))"
   ]
  },
  {
   "cell_type": "code",
   "execution_count": 208,
   "metadata": {},
   "outputs": [
    {
     "name": "stdout",
     "output_type": "stream",
     "text": [
      "느낌표로 시작하는 문장을 입력해주세요웹 프로젝트 같이 진행하실 분\n"
     ]
    }
   ],
   "source": [
    "query = input(\"느낌표로 시작하는 문장을 입력해주세요\")"
   ]
  },
  {
   "cell_type": "code",
   "execution_count": 209,
   "metadata": {},
   "outputs": [],
   "source": [
    "query_embedding = embedder.encode(query, convert_to_tensor=True)"
   ]
  },
  {
   "cell_type": "code",
   "execution_count": 210,
   "metadata": {},
   "outputs": [],
   "source": [
    "cos_scores = util.pytorch_cos_sim(query_embedding, corpus_embeddings)[0]"
   ]
  },
  {
   "cell_type": "code",
   "execution_count": 211,
   "metadata": {},
   "outputs": [
    {
     "name": "stdout",
     "output_type": "stream",
     "text": [
      "1번 개발서적 리뷰 웹 서로 프로젝트를 진행합니다 (Score: 0.7585)\n",
      "1번 김상엽 (Score: 0.7585)\n",
      "2번 자기 계발 동기부여 웹 서비스 \"으쌰으쌰\" 프로젝트를 진행 중입니다 (Score: 0.7061)\n",
      "2번 김종근 (Score: 0.7061)\n",
      "3번 프로젝트에서 프론트 엔드를 담당하고 있습니다 (Score: 0.7037)\n",
      "3번 김기표 (Score: 0.7037)\n",
      "4번 webper (웹 페이지 스크랩 사이트) 프로젝트에서 서버 개발을 담당하고 있구요 (Score: 0.6222)\n",
      "4번 배종진 (Score: 0.6222)\n",
      "5번 이번 학기에는 웹 프로젝트로 선물 추천 사이트를 개발하고 있습니다. (Score: 0.5456)\n",
      "5번 김송아 (Score: 0.5456)\n"
     ]
    }
   ],
   "source": [
    "top_k = 5\n",
    "top_results = np.argpartition(-cos_scores, range(top_k))\n",
    "\n",
    "for i, idx in enumerate(top_results[0:top_k]):\n",
    "    print(str(i+1)+\"번 \"+corpus1[idx].strip(), \"(Score: %.4f)\" % (cos_scores[idx]))\n",
    "    print(str(i+1)+\"번 \"+name1[idx].strip(), \"(Score: %.4f)\" % (cos_scores[idx]))"
   ]
  },
  {
   "cell_type": "code",
   "execution_count": null,
   "metadata": {},
   "outputs": [],
   "source": [
    "query = input(\"느낌표로 시작하는 문장을 입력해주세요\")"
   ]
  },
  {
   "cell_type": "code",
   "execution_count": 217,
   "metadata": {},
   "outputs": [],
   "source": [
    "query_embedding = embedder.encode(query, convert_to_tensor=True)"
   ]
  },
  {
   "cell_type": "code",
   "execution_count": 218,
   "metadata": {},
   "outputs": [],
   "source": [
    "cos_scores = util.pytorch_cos_sim(query_embedding, corpus_embeddings)[0]"
   ]
  },
  {
   "cell_type": "code",
   "execution_count": 219,
   "metadata": {},
   "outputs": [
    {
     "name": "stdout",
     "output_type": "stream",
     "text": [
      "1번 풋살도 좋아합니다. (Score: 0.6214)\n",
      "1번 김종근 (Score: 0.6214)\n",
      "2번 데이식스 공연만 5번 다녀왔는데 (Score: 0.5886)\n",
      "2번 김서영 (Score: 0.5886)\n",
      "3번 당구장 좋아합니다.. (Score: 0.5625)\n",
      "3번 이의종 (Score: 0.5625)\n",
      "4번 피시방 좋아합니다. (Score: 0.5577)\n",
      "4번 이의종 (Score: 0.5577)\n",
      "5번 게임하기 (Score: 0.5542)\n",
      "5번 김상엽 (Score: 0.5542)\n"
     ]
    }
   ],
   "source": [
    "top_k = 5\n",
    "top_results = np.argpartition(-cos_scores, range(top_k))\n",
    "\n",
    "for i, idx in enumerate(top_results[0:top_k]):\n",
    "    print(str(i+1)+\"번 \"+corpus1[idx].strip(), \"(Score: %.4f)\" % (cos_scores[idx]))\n",
    "    print(str(i+1)+\"번 \"+name1[idx].strip(), \"(Score: %.4f)\" % (cos_scores[idx]))"
   ]
  },
  {
   "cell_type": "code",
   "execution_count": 220,
   "metadata": {},
   "outputs": [],
   "source": [
    "embedder = SentenceTransformer('paraphrase-xlm-r-multilingual-v1')"
   ]
  },
  {
   "cell_type": "code",
   "execution_count": 225,
   "metadata": {},
   "outputs": [
    {
     "name": "stdout",
     "output_type": "stream",
     "text": [
      "느낌표로 시작하는 문장을 입력해주세요풋살\n"
     ]
    }
   ],
   "source": [
    "query = input(\"느낌표로 시작하는 문장을 입력해주세요\")"
   ]
  },
  {
   "cell_type": "code",
   "execution_count": 226,
   "metadata": {},
   "outputs": [],
   "source": [
    "corpus_embeddings = embedder.encode(corpus1, convert_to_tensor=True)\n",
    "query_embedding = embedder.encode(query, convert_to_tensor=True)"
   ]
  },
  {
   "cell_type": "code",
   "execution_count": 227,
   "metadata": {},
   "outputs": [],
   "source": [
    "cos_scores = util.pytorch_cos_sim(query_embedding, corpus_embeddings)[0]"
   ]
  },
  {
   "cell_type": "code",
   "execution_count": 228,
   "metadata": {},
   "outputs": [
    {
     "name": "stdout",
     "output_type": "stream",
     "text": [
      "1번 게임하기 (Score: 0.7509)\n",
      "1번 김상엽 (Score: 0.7509)\n",
      "2번 당구장 좋아합니다.. (Score: 0.4078)\n",
      "2번 이의종 (Score: 0.4078)\n",
      "3번 OST도 좋아해요 (Score: 0.4005)\n",
      "3번 김동준 (Score: 0.4005)\n",
      "4번 게임 개발 Genom팀 설민우입니다 (Score: 0.3623)\n",
      "4번 설민우 (Score: 0.3623)\n",
      "5번 심심하면 노래를 틀고 있습니다 (Score: 0.3390)\n",
      "5번 진성호 (Score: 0.3390)\n"
     ]
    }
   ],
   "source": [
    "top_k = 5\n",
    "top_results = np.argpartition(-cos_scores, range(top_k))\n",
    "\n",
    "for i, idx in enumerate(top_results[0:top_k]):\n",
    "    print(str(i+1)+\"번 \"+corpus1[idx].strip(), \"(Score: %.4f)\" % (cos_scores[idx]))\n",
    "    print(str(i+1)+\"번 \"+name1[idx].strip(), \"(Score: %.4f)\" % (cos_scores[idx]))"
   ]
  },
  {
   "cell_type": "code",
   "execution_count": null,
   "metadata": {},
   "outputs": [],
   "source": [
    "embedder = SentenceTransformer('quora-distilbert-multilingual')"
   ]
  },
  {
   "cell_type": "code",
   "execution_count": null,
   "metadata": {},
   "outputs": [],
   "source": [
    "l"
   ]
  }
 ],
 "metadata": {
  "kernelspec": {
   "display_name": "Python 3",
   "language": "python",
   "name": "python3"
  },
  "language_info": {
   "codemirror_mode": {
    "name": "ipython",
    "version": 3
   },
   "file_extension": ".py",
   "mimetype": "text/x-python",
   "name": "python",
   "nbconvert_exporter": "python",
   "pygments_lexer": "ipython3",
   "version": "3.7.6"
  }
 },
 "nbformat": 4,
 "nbformat_minor": 4
}
